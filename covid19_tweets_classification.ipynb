{
 "cells": [
  {
   "cell_type": "markdown",
   "metadata": {},
   "source": [
    "# Covid-19 Tweets Classification"
   ]
  },
  {
   "cell_type": "markdown",
   "metadata": {},
   "source": [
    "## About the Dataset\n",
    "The dataset has been downloaded from Kaggle.\\\n",
    "Dataset Link: [Link to the dataset](https://www.kaggle.com/datasets/datatattle/covid-19-nlp-text-classification)\\\n",
    "The tweets have been pulled from Twitter and manual tagging has been done on them. The names and usernames have been given codes to avoid any privacy concerns.\n",
    "\n",
    "**Columns**:\n",
    "1) Location\n",
    "2) Tweet At\n",
    "3) Original Tweet\n",
    "4) Sentiment\n"
   ]
  },
  {
   "cell_type": "code",
   "execution_count": null,
   "metadata": {},
   "outputs": [],
   "source": [
    "# import libraries\n",
    "import pandas as pd\n",
    "import matplotlib.pyplot as plt\n",
    "import seaborn as sns\n",
    "\n",
    "import nltk\n",
    "nltk.download('punkt')\n",
    "nltk.download('wordnet')\n",
    "nltk.download('omw-1.4')\n",
    "nltk.download('stopwords')"
   ]
  },
  {
   "cell_type": "code",
   "execution_count": 197,
   "metadata": {},
   "outputs": [],
   "source": [
    "# display full column value\n",
    "pd.set_option('display.max_colwidth', None)"
   ]
  },
  {
   "cell_type": "markdown",
   "metadata": {},
   "source": [
    "## Load the Datasets"
   ]
  },
  {
   "cell_type": "code",
   "execution_count": 285,
   "metadata": {},
   "outputs": [],
   "source": [
    "df_train = pd.read_csv('data/Corona_NLP_train.csv', encoding='latin1')\n",
    "df_test = pd.read_csv('data/Corona_NLP_test.csv')"
   ]
  },
  {
   "cell_type": "code",
   "execution_count": 286,
   "metadata": {},
   "outputs": [
    {
     "data": {
      "text/html": [
       "<div>\n",
       "<style scoped>\n",
       "    .dataframe tbody tr th:only-of-type {\n",
       "        vertical-align: middle;\n",
       "    }\n",
       "\n",
       "    .dataframe tbody tr th {\n",
       "        vertical-align: top;\n",
       "    }\n",
       "\n",
       "    .dataframe thead th {\n",
       "        text-align: right;\n",
       "    }\n",
       "</style>\n",
       "<table border=\"1\" class=\"dataframe\">\n",
       "  <thead>\n",
       "    <tr style=\"text-align: right;\">\n",
       "      <th></th>\n",
       "      <th>UserName</th>\n",
       "      <th>ScreenName</th>\n",
       "      <th>Location</th>\n",
       "      <th>TweetAt</th>\n",
       "      <th>OriginalTweet</th>\n",
       "      <th>Sentiment</th>\n",
       "    </tr>\n",
       "  </thead>\n",
       "  <tbody>\n",
       "    <tr>\n",
       "      <th>0</th>\n",
       "      <td>3799</td>\n",
       "      <td>48751</td>\n",
       "      <td>London</td>\n",
       "      <td>16-03-2020</td>\n",
       "      <td>@MeNyrbie @Phil_Gahan @Chrisitv https://t.co/iFz9FAn2Pa and https://t.co/xX6ghGFzCC and https://t.co/I2NlzdxNo8</td>\n",
       "      <td>Neutral</td>\n",
       "    </tr>\n",
       "    <tr>\n",
       "      <th>1</th>\n",
       "      <td>3800</td>\n",
       "      <td>48752</td>\n",
       "      <td>UK</td>\n",
       "      <td>16-03-2020</td>\n",
       "      <td>advice Talk to your neighbours family to exchange phone numbers create contact list with phone numbers of neighbours schools employer chemist GP set up online shopping accounts if poss adequate supplies of regular meds but not over order</td>\n",
       "      <td>Positive</td>\n",
       "    </tr>\n",
       "    <tr>\n",
       "      <th>2</th>\n",
       "      <td>3801</td>\n",
       "      <td>48753</td>\n",
       "      <td>Vagabonds</td>\n",
       "      <td>16-03-2020</td>\n",
       "      <td>Coronavirus Australia: Woolworths to give elderly, disabled dedicated shopping hours amid COVID-19 outbreak https://t.co/bInCA9Vp8P</td>\n",
       "      <td>Positive</td>\n",
       "    </tr>\n",
       "    <tr>\n",
       "      <th>3</th>\n",
       "      <td>3802</td>\n",
       "      <td>48754</td>\n",
       "      <td>NaN</td>\n",
       "      <td>16-03-2020</td>\n",
       "      <td>My food stock is not the only one which is empty...\\r\\r\\n\\r\\r\\nPLEASE, don't panic, THERE WILL BE ENOUGH FOOD FOR EVERYONE if you do not take more than you need. \\r\\r\\nStay calm, stay safe.\\r\\r\\n\\r\\r\\n#COVID19france #COVID_19 #COVID19 #coronavirus #confinement #Confinementotal #ConfinementGeneral https://t.co/zrlG0Z520j</td>\n",
       "      <td>Positive</td>\n",
       "    </tr>\n",
       "    <tr>\n",
       "      <th>4</th>\n",
       "      <td>3803</td>\n",
       "      <td>48755</td>\n",
       "      <td>NaN</td>\n",
       "      <td>16-03-2020</td>\n",
       "      <td>Me, ready to go at supermarket during the #COVID19 outbreak.\\r\\r\\n\\r\\r\\nNot because I'm paranoid, but because my food stock is litteraly empty. The #coronavirus is a serious thing, but please, don't panic. It causes shortage...\\r\\r\\n\\r\\r\\n#CoronavirusFrance #restezchezvous #StayAtHome #confinement https://t.co/usmuaLq72n</td>\n",
       "      <td>Extremely Negative</td>\n",
       "    </tr>\n",
       "  </tbody>\n",
       "</table>\n",
       "</div>"
      ],
      "text/plain": [
       "   UserName  ScreenName   Location     TweetAt  \\\n",
       "0      3799       48751     London  16-03-2020   \n",
       "1      3800       48752         UK  16-03-2020   \n",
       "2      3801       48753  Vagabonds  16-03-2020   \n",
       "3      3802       48754        NaN  16-03-2020   \n",
       "4      3803       48755        NaN  16-03-2020   \n",
       "\n",
       "                                                                                                                                                                                                                                                                                                                        OriginalTweet  \\\n",
       "0                                                                                                                                                                                                                     @MeNyrbie @Phil_Gahan @Chrisitv https://t.co/iFz9FAn2Pa and https://t.co/xX6ghGFzCC and https://t.co/I2NlzdxNo8   \n",
       "1                                                                                       advice Talk to your neighbours family to exchange phone numbers create contact list with phone numbers of neighbours schools employer chemist GP set up online shopping accounts if poss adequate supplies of regular meds but not over order   \n",
       "2                                                                                                                                                                                                 Coronavirus Australia: Woolworths to give elderly, disabled dedicated shopping hours amid COVID-19 outbreak https://t.co/bInCA9Vp8P   \n",
       "3   My food stock is not the only one which is empty...\\r\\r\\n\\r\\r\\nPLEASE, don't panic, THERE WILL BE ENOUGH FOOD FOR EVERYONE if you do not take more than you need. \\r\\r\\nStay calm, stay safe.\\r\\r\\n\\r\\r\\n#COVID19france #COVID_19 #COVID19 #coronavirus #confinement #Confinementotal #ConfinementGeneral https://t.co/zrlG0Z520j   \n",
       "4  Me, ready to go at supermarket during the #COVID19 outbreak.\\r\\r\\n\\r\\r\\nNot because I'm paranoid, but because my food stock is litteraly empty. The #coronavirus is a serious thing, but please, don't panic. It causes shortage...\\r\\r\\n\\r\\r\\n#CoronavirusFrance #restezchezvous #StayAtHome #confinement https://t.co/usmuaLq72n   \n",
       "\n",
       "            Sentiment  \n",
       "0             Neutral  \n",
       "1            Positive  \n",
       "2            Positive  \n",
       "3            Positive  \n",
       "4  Extremely Negative  "
      ]
     },
     "execution_count": 286,
     "metadata": {},
     "output_type": "execute_result"
    }
   ],
   "source": [
    "df_train.head()"
   ]
  },
  {
   "cell_type": "code",
   "execution_count": 287,
   "metadata": {},
   "outputs": [
    {
     "data": {
      "text/html": [
       "<div>\n",
       "<style scoped>\n",
       "    .dataframe tbody tr th:only-of-type {\n",
       "        vertical-align: middle;\n",
       "    }\n",
       "\n",
       "    .dataframe tbody tr th {\n",
       "        vertical-align: top;\n",
       "    }\n",
       "\n",
       "    .dataframe thead th {\n",
       "        text-align: right;\n",
       "    }\n",
       "</style>\n",
       "<table border=\"1\" class=\"dataframe\">\n",
       "  <thead>\n",
       "    <tr style=\"text-align: right;\">\n",
       "      <th></th>\n",
       "      <th>UserName</th>\n",
       "      <th>ScreenName</th>\n",
       "      <th>Location</th>\n",
       "      <th>TweetAt</th>\n",
       "      <th>OriginalTweet</th>\n",
       "      <th>Sentiment</th>\n",
       "    </tr>\n",
       "  </thead>\n",
       "  <tbody>\n",
       "    <tr>\n",
       "      <th>0</th>\n",
       "      <td>1</td>\n",
       "      <td>44953</td>\n",
       "      <td>NYC</td>\n",
       "      <td>02-03-2020</td>\n",
       "      <td>TRENDING: New Yorkers encounter empty supermarket shelves (pictured, Wegmans in Brooklyn), sold-out online grocers (FoodKick, MaxDelivery) as #coronavirus-fearing shoppers stock up https://t.co/Gr76pcrLWh https://t.co/ivMKMsqdT1</td>\n",
       "      <td>Extremely Negative</td>\n",
       "    </tr>\n",
       "    <tr>\n",
       "      <th>1</th>\n",
       "      <td>2</td>\n",
       "      <td>44954</td>\n",
       "      <td>Seattle, WA</td>\n",
       "      <td>02-03-2020</td>\n",
       "      <td>When I couldn't find hand sanitizer at Fred Meyer, I turned to #Amazon. But $114.97 for a 2 pack of Purell??!!Check out how  #coronavirus concerns are driving up prices. https://t.co/ygbipBflMY</td>\n",
       "      <td>Positive</td>\n",
       "    </tr>\n",
       "    <tr>\n",
       "      <th>2</th>\n",
       "      <td>3</td>\n",
       "      <td>44955</td>\n",
       "      <td>NaN</td>\n",
       "      <td>02-03-2020</td>\n",
       "      <td>Find out how you can protect yourself and loved ones from #coronavirus. ?</td>\n",
       "      <td>Extremely Positive</td>\n",
       "    </tr>\n",
       "    <tr>\n",
       "      <th>3</th>\n",
       "      <td>4</td>\n",
       "      <td>44956</td>\n",
       "      <td>Chicagoland</td>\n",
       "      <td>02-03-2020</td>\n",
       "      <td>#Panic buying hits #NewYork City as anxious shoppers stock up on food&amp;amp;medical supplies after #healthcare worker in her 30s becomes #BigApple 1st confirmed #coronavirus patient OR a #Bloomberg staged event?\\r\\r\\n\\r\\r\\nhttps://t.co/IASiReGPC4\\r\\r\\n\\r\\r\\n#QAnon #QAnon2018 #QAnon2020 \\r\\r\\n#Election2020 #CDC https://t.co/29isZOewxu</td>\n",
       "      <td>Negative</td>\n",
       "    </tr>\n",
       "    <tr>\n",
       "      <th>4</th>\n",
       "      <td>5</td>\n",
       "      <td>44957</td>\n",
       "      <td>Melbourne, Victoria</td>\n",
       "      <td>03-03-2020</td>\n",
       "      <td>#toiletpaper #dunnypaper #coronavirus #coronavirusaustralia #CoronaVirusUpdate #Covid_19 #9News  #Corvid19 #7NewsMelb #dunnypapergate #Costco    One week everyone buying baby milk powder the next everyone buying up toilet paper. https://t.co/ScZryVvsIh</td>\n",
       "      <td>Neutral</td>\n",
       "    </tr>\n",
       "  </tbody>\n",
       "</table>\n",
       "</div>"
      ],
      "text/plain": [
       "   UserName  ScreenName             Location     TweetAt  \\\n",
       "0         1       44953                  NYC  02-03-2020   \n",
       "1         2       44954          Seattle, WA  02-03-2020   \n",
       "2         3       44955                  NaN  02-03-2020   \n",
       "3         4       44956          Chicagoland  02-03-2020   \n",
       "4         5       44957  Melbourne, Victoria  03-03-2020   \n",
       "\n",
       "                                                                                                                                                                                                                                                                                                                                   OriginalTweet  \\\n",
       "0                                                                                                           TRENDING: New Yorkers encounter empty supermarket shelves (pictured, Wegmans in Brooklyn), sold-out online grocers (FoodKick, MaxDelivery) as #coronavirus-fearing shoppers stock up https://t.co/Gr76pcrLWh https://t.co/ivMKMsqdT1   \n",
       "1                                                                                                                                              When I couldn't find hand sanitizer at Fred Meyer, I turned to #Amazon. But $114.97 for a 2 pack of Purell??!!Check out how  #coronavirus concerns are driving up prices. https://t.co/ygbipBflMY   \n",
       "2                                                                                                                                                                                                                                                                      Find out how you can protect yourself and loved ones from #coronavirus. ?   \n",
       "3  #Panic buying hits #NewYork City as anxious shoppers stock up on food&amp;medical supplies after #healthcare worker in her 30s becomes #BigApple 1st confirmed #coronavirus patient OR a #Bloomberg staged event?\\r\\r\\n\\r\\r\\nhttps://t.co/IASiReGPC4\\r\\r\\n\\r\\r\\n#QAnon #QAnon2018 #QAnon2020 \\r\\r\\n#Election2020 #CDC https://t.co/29isZOewxu   \n",
       "4                                                                                   #toiletpaper #dunnypaper #coronavirus #coronavirusaustralia #CoronaVirusUpdate #Covid_19 #9News  #Corvid19 #7NewsMelb #dunnypapergate #Costco    One week everyone buying baby milk powder the next everyone buying up toilet paper. https://t.co/ScZryVvsIh   \n",
       "\n",
       "            Sentiment  \n",
       "0  Extremely Negative  \n",
       "1            Positive  \n",
       "2  Extremely Positive  \n",
       "3            Negative  \n",
       "4             Neutral  "
      ]
     },
     "execution_count": 287,
     "metadata": {},
     "output_type": "execute_result"
    }
   ],
   "source": [
    "df_test.head()"
   ]
  },
  {
   "cell_type": "markdown",
   "metadata": {},
   "source": [
    "## Basic Data Information"
   ]
  },
  {
   "cell_type": "code",
   "execution_count": 134,
   "metadata": {},
   "outputs": [
    {
     "data": {
      "text/plain": [
       "(41157, 6)"
      ]
     },
     "execution_count": 134,
     "metadata": {},
     "output_type": "execute_result"
    }
   ],
   "source": [
    "df_train.shape"
   ]
  },
  {
   "cell_type": "markdown",
   "metadata": {},
   "source": [
    "There are 41157 tweets in the training dataset."
   ]
  },
  {
   "cell_type": "code",
   "execution_count": 135,
   "metadata": {},
   "outputs": [
    {
     "data": {
      "text/plain": [
       "(3798, 6)"
      ]
     },
     "execution_count": 135,
     "metadata": {},
     "output_type": "execute_result"
    }
   ],
   "source": [
    "df_test.shape"
   ]
  },
  {
   "cell_type": "markdown",
   "metadata": {},
   "source": [
    "There are 3798 tweets in the test dataset."
   ]
  },
  {
   "cell_type": "code",
   "execution_count": 136,
   "metadata": {},
   "outputs": [
    {
     "name": "stdout",
     "output_type": "stream",
     "text": [
      "<class 'pandas.core.frame.DataFrame'>\n",
      "RangeIndex: 41157 entries, 0 to 41156\n",
      "Data columns (total 6 columns):\n",
      " #   Column         Non-Null Count  Dtype \n",
      "---  ------         --------------  ----- \n",
      " 0   UserName       41157 non-null  int64 \n",
      " 1   ScreenName     41157 non-null  int64 \n",
      " 2   Location       32567 non-null  object\n",
      " 3   TweetAt        41157 non-null  object\n",
      " 4   OriginalTweet  41157 non-null  object\n",
      " 5   Sentiment      41157 non-null  object\n",
      "dtypes: int64(2), object(4)\n",
      "memory usage: 1.9+ MB\n"
     ]
    }
   ],
   "source": [
    "df_train.info()"
   ]
  },
  {
   "cell_type": "markdown",
   "metadata": {},
   "source": [
    "There are missing values in the Location column in training dataset."
   ]
  },
  {
   "cell_type": "code",
   "execution_count": 137,
   "metadata": {},
   "outputs": [
    {
     "name": "stdout",
     "output_type": "stream",
     "text": [
      "<class 'pandas.core.frame.DataFrame'>\n",
      "RangeIndex: 3798 entries, 0 to 3797\n",
      "Data columns (total 6 columns):\n",
      " #   Column         Non-Null Count  Dtype \n",
      "---  ------         --------------  ----- \n",
      " 0   UserName       3798 non-null   int64 \n",
      " 1   ScreenName     3798 non-null   int64 \n",
      " 2   Location       2964 non-null   object\n",
      " 3   TweetAt        3798 non-null   object\n",
      " 4   OriginalTweet  3798 non-null   object\n",
      " 5   Sentiment      3798 non-null   object\n",
      "dtypes: int64(2), object(4)\n",
      "memory usage: 178.2+ KB\n"
     ]
    }
   ],
   "source": [
    "df_test.info()"
   ]
  },
  {
   "cell_type": "markdown",
   "metadata": {},
   "source": [
    "There are missing values in the Location column in test dataset."
   ]
  },
  {
   "cell_type": "markdown",
   "metadata": {},
   "source": [
    "## Duplicates"
   ]
  },
  {
   "cell_type": "code",
   "execution_count": 138,
   "metadata": {},
   "outputs": [
    {
     "name": "stdout",
     "output_type": "stream",
     "text": [
      "Training duplicates: 0\n",
      "Test duplicates: 0\n"
     ]
    }
   ],
   "source": [
    "print(\"Training duplicates:\", df_train.duplicated().sum())\n",
    "print(\"Test duplicates:\", df_test.duplicated().sum())"
   ]
  },
  {
   "cell_type": "markdown",
   "metadata": {},
   "source": [
    "There are NO duplicate entries in both the training and test datasets."
   ]
  },
  {
   "cell_type": "markdown",
   "metadata": {},
   "source": [
    "## Missing Values"
   ]
  },
  {
   "cell_type": "code",
   "execution_count": 139,
   "metadata": {},
   "outputs": [
    {
     "data": {
      "text/plain": [
       "Location         8590\n",
       "UserName            0\n",
       "ScreenName          0\n",
       "TweetAt             0\n",
       "OriginalTweet       0\n",
       "Sentiment           0\n",
       "dtype: int64"
      ]
     },
     "execution_count": 139,
     "metadata": {},
     "output_type": "execute_result"
    }
   ],
   "source": [
    "df_train.isnull().sum().sort_values(ascending=False)"
   ]
  },
  {
   "cell_type": "markdown",
   "metadata": {},
   "source": [
    "- In the training dataset, there are 8590 missing values in Location.\n",
    "- Percentage of missing values: 8590/len(df_train)*100 = 20.87%"
   ]
  },
  {
   "cell_type": "code",
   "execution_count": 140,
   "metadata": {},
   "outputs": [
    {
     "data": {
      "text/plain": [
       "Location         834\n",
       "UserName           0\n",
       "ScreenName         0\n",
       "TweetAt            0\n",
       "OriginalTweet      0\n",
       "Sentiment          0\n",
       "dtype: int64"
      ]
     },
     "execution_count": 140,
     "metadata": {},
     "output_type": "execute_result"
    }
   ],
   "source": [
    "df_test.isnull().sum().sort_values(ascending=False)"
   ]
  },
  {
   "cell_type": "markdown",
   "metadata": {},
   "source": [
    "- In the test dataset, there are 834 missing values in Location. \n",
    "- Percentage of missing values: 834/len(df_test)*100 = 21.96%"
   ]
  },
  {
   "cell_type": "markdown",
   "metadata": {},
   "source": [
    "We won't be handling these missing values because we are working on text-classification and our main concern is with the `OriginalTweet` column. "
   ]
  },
  {
   "cell_type": "markdown",
   "metadata": {},
   "source": [
    "## Exploratory Data Analysis"
   ]
  },
  {
   "cell_type": "markdown",
   "metadata": {},
   "source": [
    "### Descriptive Statistics "
   ]
  },
  {
   "cell_type": "code",
   "execution_count": 141,
   "metadata": {},
   "outputs": [
    {
     "data": {
      "text/html": [
       "<div>\n",
       "<style scoped>\n",
       "    .dataframe tbody tr th:only-of-type {\n",
       "        vertical-align: middle;\n",
       "    }\n",
       "\n",
       "    .dataframe tbody tr th {\n",
       "        vertical-align: top;\n",
       "    }\n",
       "\n",
       "    .dataframe thead th {\n",
       "        text-align: right;\n",
       "    }\n",
       "</style>\n",
       "<table border=\"1\" class=\"dataframe\">\n",
       "  <thead>\n",
       "    <tr style=\"text-align: right;\">\n",
       "      <th></th>\n",
       "      <th>Location</th>\n",
       "      <th>TweetAt</th>\n",
       "      <th>OriginalTweet</th>\n",
       "      <th>Sentiment</th>\n",
       "    </tr>\n",
       "  </thead>\n",
       "  <tbody>\n",
       "    <tr>\n",
       "      <th>count</th>\n",
       "      <td>32567</td>\n",
       "      <td>41157</td>\n",
       "      <td>41157</td>\n",
       "      <td>41157</td>\n",
       "    </tr>\n",
       "    <tr>\n",
       "      <th>unique</th>\n",
       "      <td>12220</td>\n",
       "      <td>30</td>\n",
       "      <td>41157</td>\n",
       "      <td>5</td>\n",
       "    </tr>\n",
       "    <tr>\n",
       "      <th>top</th>\n",
       "      <td>London</td>\n",
       "      <td>20-03-2020</td>\n",
       "      <td>@MeNyrbie @Phil_Gahan @Chrisitv https://t.co/iFz9FAn2Pa and https://t.co/xX6ghGFzCC and https://t.co/I2NlzdxNo8</td>\n",
       "      <td>Positive</td>\n",
       "    </tr>\n",
       "    <tr>\n",
       "      <th>freq</th>\n",
       "      <td>540</td>\n",
       "      <td>3448</td>\n",
       "      <td>1</td>\n",
       "      <td>11422</td>\n",
       "    </tr>\n",
       "  </tbody>\n",
       "</table>\n",
       "</div>"
      ],
      "text/plain": [
       "       Location     TweetAt  \\\n",
       "count     32567       41157   \n",
       "unique    12220          30   \n",
       "top      London  20-03-2020   \n",
       "freq        540        3448   \n",
       "\n",
       "                                                                                                          OriginalTweet  \\\n",
       "count                                                                                                             41157   \n",
       "unique                                                                                                            41157   \n",
       "top     @MeNyrbie @Phil_Gahan @Chrisitv https://t.co/iFz9FAn2Pa and https://t.co/xX6ghGFzCC and https://t.co/I2NlzdxNo8   \n",
       "freq                                                                                                                  1   \n",
       "\n",
       "       Sentiment  \n",
       "count      41157  \n",
       "unique         5  \n",
       "top     Positive  \n",
       "freq       11422  "
      ]
     },
     "execution_count": 141,
     "metadata": {},
     "output_type": "execute_result"
    }
   ],
   "source": [
    "df_train.describe(include='object')"
   ]
  },
  {
   "cell_type": "markdown",
   "metadata": {},
   "source": [
    "There are 5 unique Sentiment labels in the training set."
   ]
  },
  {
   "cell_type": "code",
   "execution_count": 142,
   "metadata": {},
   "outputs": [
    {
     "data": {
      "text/html": [
       "<div>\n",
       "<style scoped>\n",
       "    .dataframe tbody tr th:only-of-type {\n",
       "        vertical-align: middle;\n",
       "    }\n",
       "\n",
       "    .dataframe tbody tr th {\n",
       "        vertical-align: top;\n",
       "    }\n",
       "\n",
       "    .dataframe thead th {\n",
       "        text-align: right;\n",
       "    }\n",
       "</style>\n",
       "<table border=\"1\" class=\"dataframe\">\n",
       "  <thead>\n",
       "    <tr style=\"text-align: right;\">\n",
       "      <th></th>\n",
       "      <th>Location</th>\n",
       "      <th>TweetAt</th>\n",
       "      <th>OriginalTweet</th>\n",
       "      <th>Sentiment</th>\n",
       "    </tr>\n",
       "  </thead>\n",
       "  <tbody>\n",
       "    <tr>\n",
       "      <th>count</th>\n",
       "      <td>2964</td>\n",
       "      <td>3798</td>\n",
       "      <td>3798</td>\n",
       "      <td>3798</td>\n",
       "    </tr>\n",
       "    <tr>\n",
       "      <th>unique</th>\n",
       "      <td>1717</td>\n",
       "      <td>15</td>\n",
       "      <td>3798</td>\n",
       "      <td>5</td>\n",
       "    </tr>\n",
       "    <tr>\n",
       "      <th>top</th>\n",
       "      <td>United States</td>\n",
       "      <td>13-03-2020</td>\n",
       "      <td>TRENDING: New Yorkers encounter empty supermarket shelves (pictured, Wegmans in Brooklyn), sold-out online grocers (FoodKick, MaxDelivery) as #coronavirus-fearing shoppers stock up https://t.co/Gr76pcrLWh https://t.co/ivMKMsqdT1</td>\n",
       "      <td>Negative</td>\n",
       "    </tr>\n",
       "    <tr>\n",
       "      <th>freq</th>\n",
       "      <td>75</td>\n",
       "      <td>1233</td>\n",
       "      <td>1</td>\n",
       "      <td>1041</td>\n",
       "    </tr>\n",
       "  </tbody>\n",
       "</table>\n",
       "</div>"
      ],
      "text/plain": [
       "             Location     TweetAt  \\\n",
       "count            2964        3798   \n",
       "unique           1717          15   \n",
       "top     United States  13-03-2020   \n",
       "freq               75        1233   \n",
       "\n",
       "                                                                                                                                                                                                                               OriginalTweet  \\\n",
       "count                                                                                                                                                                                                                                   3798   \n",
       "unique                                                                                                                                                                                                                                  3798   \n",
       "top     TRENDING: New Yorkers encounter empty supermarket shelves (pictured, Wegmans in Brooklyn), sold-out online grocers (FoodKick, MaxDelivery) as #coronavirus-fearing shoppers stock up https://t.co/Gr76pcrLWh https://t.co/ivMKMsqdT1   \n",
       "freq                                                                                                                                                                                                                                       1   \n",
       "\n",
       "       Sentiment  \n",
       "count       3798  \n",
       "unique         5  \n",
       "top     Negative  \n",
       "freq        1041  "
      ]
     },
     "execution_count": 142,
     "metadata": {},
     "output_type": "execute_result"
    }
   ],
   "source": [
    "df_test.describe(include='object')"
   ]
  },
  {
   "cell_type": "markdown",
   "metadata": {},
   "source": [
    "There are 5 unique Sentiment labels in the test set."
   ]
  },
  {
   "cell_type": "markdown",
   "metadata": {},
   "source": [
    "### Unique Sentiment labels"
   ]
  },
  {
   "cell_type": "code",
   "execution_count": 143,
   "metadata": {},
   "outputs": [
    {
     "data": {
      "text/plain": [
       "['Neutral', 'Positive', 'Extremely Negative', 'Negative', 'Extremely Positive']"
      ]
     },
     "execution_count": 143,
     "metadata": {},
     "output_type": "execute_result"
    }
   ],
   "source": [
    "df_train['Sentiment'].unique().tolist()"
   ]
  },
  {
   "cell_type": "code",
   "execution_count": 144,
   "metadata": {},
   "outputs": [
    {
     "data": {
      "text/plain": [
       "['Extremely Negative', 'Positive', 'Extremely Positive', 'Negative', 'Neutral']"
      ]
     },
     "execution_count": 144,
     "metadata": {},
     "output_type": "execute_result"
    }
   ],
   "source": [
    "df_test['Sentiment'].unique().tolist()"
   ]
  },
  {
   "cell_type": "markdown",
   "metadata": {},
   "source": [
    "Following are the unique Sentiments:\n",
    "- Extremely Negative\n",
    "- Negative\n",
    "- Neutral\n",
    "- Positive\n",
    "- Extremely Positive"
   ]
  },
  {
   "cell_type": "markdown",
   "metadata": {},
   "source": [
    "### Distribution of Sentiment"
   ]
  },
  {
   "cell_type": "code",
   "execution_count": 145,
   "metadata": {},
   "outputs": [
    {
     "data": {
      "image/png": "[encoded data removed]",
      "text/plain": [
       "<Figure size 400x400 with 1 Axes>"
      ]
     },
     "metadata": {},
     "output_type": "display_data"
    }
   ],
   "source": [
    "# Create a countplot to show the distribution of sentiments, order them from Extremely Negative to Extremely Positive\n",
    "fig = plt.figure(figsize=(4, 4))\n",
    "sns.countplot(y='Sentiment', data=df_train, order=['Extremely Negative', 'Negative', 'Neutral', 'Positive', 'Extremely Positive'])\n",
    "plt.show()"
   ]
  },
  {
   "cell_type": "code",
   "execution_count": 146,
   "metadata": {},
   "outputs": [
    {
     "data": {
      "image/png": "[encoded data removed]",
      "text/plain": [
       "<Figure size 400x400 with 1 Axes>"
      ]
     },
     "metadata": {},
     "output_type": "display_data"
    }
   ],
   "source": [
    "# Create a countplot to show the distribution of sentiments, order them from Extremely Negative to Extremely Positive\n",
    "fig = plt.figure(figsize=(4, 4))\n",
    "sns.countplot(y='Sentiment', data=df_test, order=['Extremely Negative', 'Negative', 'Neutral', 'Positive', 'Extremely Positive'])\n",
    "plt.show()"
   ]
  },
  {
   "cell_type": "markdown",
   "metadata": {},
   "source": [
    "## Text Pre-processing"
   ]
  },
  {
   "cell_type": "markdown",
   "metadata": {},
   "source": [
    "We'll remove the unnecessary columns from the training and test sets."
   ]
  },
  {
   "cell_type": "code",
   "execution_count": 288,
   "metadata": {},
   "outputs": [
    {
     "data": {
      "text/html": [
       "<div>\n",
       "<style scoped>\n",
       "    .dataframe tbody tr th:only-of-type {\n",
       "        vertical-align: middle;\n",
       "    }\n",
       "\n",
       "    .dataframe tbody tr th {\n",
       "        vertical-align: top;\n",
       "    }\n",
       "\n",
       "    .dataframe thead th {\n",
       "        text-align: right;\n",
       "    }\n",
       "</style>\n",
       "<table border=\"1\" class=\"dataframe\">\n",
       "  <thead>\n",
       "    <tr style=\"text-align: right;\">\n",
       "      <th></th>\n",
       "      <th>OriginalTweet</th>\n",
       "      <th>Sentiment</th>\n",
       "    </tr>\n",
       "  </thead>\n",
       "  <tbody>\n",
       "    <tr>\n",
       "      <th>0</th>\n",
       "      <td>@MeNyrbie @Phil_Gahan @Chrisitv https://t.co/iFz9FAn2Pa and https://t.co/xX6ghGFzCC and https://t.co/I2NlzdxNo8</td>\n",
       "      <td>Neutral</td>\n",
       "    </tr>\n",
       "    <tr>\n",
       "      <th>1</th>\n",
       "      <td>advice Talk to your neighbours family to exchange phone numbers create contact list with phone numbers of neighbours schools employer chemist GP set up online shopping accounts if poss adequate supplies of regular meds but not over order</td>\n",
       "      <td>Positive</td>\n",
       "    </tr>\n",
       "    <tr>\n",
       "      <th>2</th>\n",
       "      <td>Coronavirus Australia: Woolworths to give elderly, disabled dedicated shopping hours amid COVID-19 outbreak https://t.co/bInCA9Vp8P</td>\n",
       "      <td>Positive</td>\n",
       "    </tr>\n",
       "    <tr>\n",
       "      <th>3</th>\n",
       "      <td>My food stock is not the only one which is empty...\\r\\r\\n\\r\\r\\nPLEASE, don't panic, THERE WILL BE ENOUGH FOOD FOR EVERYONE if you do not take more than you need. \\r\\r\\nStay calm, stay safe.\\r\\r\\n\\r\\r\\n#COVID19france #COVID_19 #COVID19 #coronavirus #confinement #Confinementotal #ConfinementGeneral https://t.co/zrlG0Z520j</td>\n",
       "      <td>Positive</td>\n",
       "    </tr>\n",
       "    <tr>\n",
       "      <th>4</th>\n",
       "      <td>Me, ready to go at supermarket during the #COVID19 outbreak.\\r\\r\\n\\r\\r\\nNot because I'm paranoid, but because my food stock is litteraly empty. The #coronavirus is a serious thing, but please, don't panic. It causes shortage...\\r\\r\\n\\r\\r\\n#CoronavirusFrance #restezchezvous #StayAtHome #confinement https://t.co/usmuaLq72n</td>\n",
       "      <td>Extremely Negative</td>\n",
       "    </tr>\n",
       "  </tbody>\n",
       "</table>\n",
       "</div>"
      ],
      "text/plain": [
       "                                                                                                                                                                                                                                                                                                                        OriginalTweet  \\\n",
       "0                                                                                                                                                                                                                     @MeNyrbie @Phil_Gahan @Chrisitv https://t.co/iFz9FAn2Pa and https://t.co/xX6ghGFzCC and https://t.co/I2NlzdxNo8   \n",
       "1                                                                                       advice Talk to your neighbours family to exchange phone numbers create contact list with phone numbers of neighbours schools employer chemist GP set up online shopping accounts if poss adequate supplies of regular meds but not over order   \n",
       "2                                                                                                                                                                                                 Coronavirus Australia: Woolworths to give elderly, disabled dedicated shopping hours amid COVID-19 outbreak https://t.co/bInCA9Vp8P   \n",
       "3   My food stock is not the only one which is empty...\\r\\r\\n\\r\\r\\nPLEASE, don't panic, THERE WILL BE ENOUGH FOOD FOR EVERYONE if you do not take more than you need. \\r\\r\\nStay calm, stay safe.\\r\\r\\n\\r\\r\\n#COVID19france #COVID_19 #COVID19 #coronavirus #confinement #Confinementotal #ConfinementGeneral https://t.co/zrlG0Z520j   \n",
       "4  Me, ready to go at supermarket during the #COVID19 outbreak.\\r\\r\\n\\r\\r\\nNot because I'm paranoid, but because my food stock is litteraly empty. The #coronavirus is a serious thing, but please, don't panic. It causes shortage...\\r\\r\\n\\r\\r\\n#CoronavirusFrance #restezchezvous #StayAtHome #confinement https://t.co/usmuaLq72n   \n",
       "\n",
       "            Sentiment  \n",
       "0             Neutral  \n",
       "1            Positive  \n",
       "2            Positive  \n",
       "3            Positive  \n",
       "4  Extremely Negative  "
      ]
     },
     "execution_count": 288,
     "metadata": {},
     "output_type": "execute_result"
    }
   ],
   "source": [
    "df_train = df_train[['OriginalTweet', 'Sentiment']]\n",
    "df_train.head()"
   ]
  },
  {
   "cell_type": "code",
   "execution_count": 289,
   "metadata": {},
   "outputs": [
    {
     "data": {
      "text/html": [
       "<div>\n",
       "<style scoped>\n",
       "    .dataframe tbody tr th:only-of-type {\n",
       "        vertical-align: middle;\n",
       "    }\n",
       "\n",
       "    .dataframe tbody tr th {\n",
       "        vertical-align: top;\n",
       "    }\n",
       "\n",
       "    .dataframe thead th {\n",
       "        text-align: right;\n",
       "    }\n",
       "</style>\n",
       "<table border=\"1\" class=\"dataframe\">\n",
       "  <thead>\n",
       "    <tr style=\"text-align: right;\">\n",
       "      <th></th>\n",
       "      <th>OriginalTweet</th>\n",
       "      <th>Sentiment</th>\n",
       "    </tr>\n",
       "  </thead>\n",
       "  <tbody>\n",
       "    <tr>\n",
       "      <th>0</th>\n",
       "      <td>TRENDING: New Yorkers encounter empty supermarket shelves (pictured, Wegmans in Brooklyn), sold-out online grocers (FoodKick, MaxDelivery) as #coronavirus-fearing shoppers stock up https://t.co/Gr76pcrLWh https://t.co/ivMKMsqdT1</td>\n",
       "      <td>Extremely Negative</td>\n",
       "    </tr>\n",
       "    <tr>\n",
       "      <th>1</th>\n",
       "      <td>When I couldn't find hand sanitizer at Fred Meyer, I turned to #Amazon. But $114.97 for a 2 pack of Purell??!!Check out how  #coronavirus concerns are driving up prices. https://t.co/ygbipBflMY</td>\n",
       "      <td>Positive</td>\n",
       "    </tr>\n",
       "    <tr>\n",
       "      <th>2</th>\n",
       "      <td>Find out how you can protect yourself and loved ones from #coronavirus. ?</td>\n",
       "      <td>Extremely Positive</td>\n",
       "    </tr>\n",
       "    <tr>\n",
       "      <th>3</th>\n",
       "      <td>#Panic buying hits #NewYork City as anxious shoppers stock up on food&amp;amp;medical supplies after #healthcare worker in her 30s becomes #BigApple 1st confirmed #coronavirus patient OR a #Bloomberg staged event?\\r\\r\\n\\r\\r\\nhttps://t.co/IASiReGPC4\\r\\r\\n\\r\\r\\n#QAnon #QAnon2018 #QAnon2020 \\r\\r\\n#Election2020 #CDC https://t.co/29isZOewxu</td>\n",
       "      <td>Negative</td>\n",
       "    </tr>\n",
       "    <tr>\n",
       "      <th>4</th>\n",
       "      <td>#toiletpaper #dunnypaper #coronavirus #coronavirusaustralia #CoronaVirusUpdate #Covid_19 #9News  #Corvid19 #7NewsMelb #dunnypapergate #Costco    One week everyone buying baby milk powder the next everyone buying up toilet paper. https://t.co/ScZryVvsIh</td>\n",
       "      <td>Neutral</td>\n",
       "    </tr>\n",
       "  </tbody>\n",
       "</table>\n",
       "</div>"
      ],
      "text/plain": [
       "                                                                                                                                                                                                                                                                                                                                   OriginalTweet  \\\n",
       "0                                                                                                           TRENDING: New Yorkers encounter empty supermarket shelves (pictured, Wegmans in Brooklyn), sold-out online grocers (FoodKick, MaxDelivery) as #coronavirus-fearing shoppers stock up https://t.co/Gr76pcrLWh https://t.co/ivMKMsqdT1   \n",
       "1                                                                                                                                              When I couldn't find hand sanitizer at Fred Meyer, I turned to #Amazon. But $114.97 for a 2 pack of Purell??!!Check out how  #coronavirus concerns are driving up prices. https://t.co/ygbipBflMY   \n",
       "2                                                                                                                                                                                                                                                                      Find out how you can protect yourself and loved ones from #coronavirus. ?   \n",
       "3  #Panic buying hits #NewYork City as anxious shoppers stock up on food&amp;medical supplies after #healthcare worker in her 30s becomes #BigApple 1st confirmed #coronavirus patient OR a #Bloomberg staged event?\\r\\r\\n\\r\\r\\nhttps://t.co/IASiReGPC4\\r\\r\\n\\r\\r\\n#QAnon #QAnon2018 #QAnon2020 \\r\\r\\n#Election2020 #CDC https://t.co/29isZOewxu   \n",
       "4                                                                                   #toiletpaper #dunnypaper #coronavirus #coronavirusaustralia #CoronaVirusUpdate #Covid_19 #9News  #Corvid19 #7NewsMelb #dunnypapergate #Costco    One week everyone buying baby milk powder the next everyone buying up toilet paper. https://t.co/ScZryVvsIh   \n",
       "\n",
       "            Sentiment  \n",
       "0  Extremely Negative  \n",
       "1            Positive  \n",
       "2  Extremely Positive  \n",
       "3            Negative  \n",
       "4             Neutral  "
      ]
     },
     "execution_count": 289,
     "metadata": {},
     "output_type": "execute_result"
    }
   ],
   "source": [
    "df_test = df_test[['OriginalTweet', 'Sentiment']]\n",
    "df_test.head()"
   ]
  },
  {
   "cell_type": "markdown",
   "metadata": {},
   "source": [
    "### Perform the following pre-processing steps on tweets\n",
    "1. Remove punctuation, URLs, and stop words.\n",
    "2. Convert the text into lower case.\n",
    "3. Apply lemmatization.\n",
    "4. Tokenize the text. "
   ]
  },
  {
   "cell_type": "code",
   "execution_count": 290,
   "metadata": {},
   "outputs": [],
   "source": [
    "# Function to remove punctuations from text\n",
    "import re\n",
    "import string\n",
    "from nltk.corpus import stopwords\n",
    "from nltk.tokenize import word_tokenize\n",
    "from nltk.stem import WordNetLemmatizer\n",
    "\n",
    "def remove_punctuation(text):\n",
    "    regular_punct = string.punctuation\n",
    "    #return re.sub(r'[#!\"#$%&\\'()*+,-./:;<=>?@[\\]^_`{|}~]', '', str(text))\n",
    "    return str(re.sub(r'['+regular_punct+']', '', str(text)))\n",
    "\n",
    "# Function to remove URLs from text\n",
    "def remove_urls(text):\n",
    "    return re.sub(r'http[s]?://\\S+', '', text)\n",
    "\n",
    "# Function to remove stop words from text\n",
    "def remove_stop_words(text):\n",
    "  stop_words = set(stopwords.words('english'))\n",
    "  word_tokens = word_tokenize(text)\n",
    "\n",
    "  filtered_sentence = ''\n",
    "\n",
    "  for w in word_tokens:\n",
    "\t  if w not in stop_words:\n",
    "\t\t  filtered_sentence = filtered_sentence + w + ' '\n",
    "          \n",
    "  return filtered_sentence\n",
    "\n",
    "# Function to convert the text into lower case\n",
    "def lower_case(text):\n",
    "    return text.lower()\n",
    "\n",
    "# Function to lemmatize text\n",
    "def lemmatize(text):\n",
    "  wordnet_lemmatizer = WordNetLemmatizer()\n",
    "\n",
    "  tokens = nltk.word_tokenize(text)\n",
    "  lemma_txt = ''\n",
    "  for w in tokens:\n",
    "    lemma_txt = lemma_txt + wordnet_lemmatizer.lemmatize(w) + ' '\n",
    "\n",
    "  return lemma_txt\n",
    "\n",
    "# Function to tokenize text\n",
    "def tokenize(text):\n",
    "    return nltk.word_tokenize(text)   "
   ]
  },
  {
   "cell_type": "code",
   "execution_count": 291,
   "metadata": {},
   "outputs": [
    {
     "data": {
      "text/html": [
       "<div>\n",
       "<style scoped>\n",
       "    .dataframe tbody tr th:only-of-type {\n",
       "        vertical-align: middle;\n",
       "    }\n",
       "\n",
       "    .dataframe tbody tr th {\n",
       "        vertical-align: top;\n",
       "    }\n",
       "\n",
       "    .dataframe thead th {\n",
       "        text-align: right;\n",
       "    }\n",
       "</style>\n",
       "<table border=\"1\" class=\"dataframe\">\n",
       "  <thead>\n",
       "    <tr style=\"text-align: right;\">\n",
       "      <th></th>\n",
       "      <th>OriginalTweet</th>\n",
       "      <th>Sentiment</th>\n",
       "    </tr>\n",
       "  </thead>\n",
       "  <tbody>\n",
       "    <tr>\n",
       "      <th>0</th>\n",
       "      <td>menyrbie philgahan chrisitv</td>\n",
       "      <td>Neutral</td>\n",
       "    </tr>\n",
       "    <tr>\n",
       "      <th>1</th>\n",
       "      <td>advice talk neighbour family exchange phone number create contact list phone number neighbour school employer chemist gp set online shopping account po adequate supply regular med order</td>\n",
       "      <td>Positive</td>\n",
       "    </tr>\n",
       "    <tr>\n",
       "      <th>2</th>\n",
       "      <td>coronavirus australia woolworth give elderly disabled dedicated shopping hour amid covid19 outbreak</td>\n",
       "      <td>Positive</td>\n",
       "    </tr>\n",
       "    <tr>\n",
       "      <th>3</th>\n",
       "      <td>my food stock one empty please dont panic there will be enough food for everyone take need stay calm stay safe covid19france covid19 covid19 coronavirus confinement confinementotal confinementgeneral</td>\n",
       "      <td>Positive</td>\n",
       "    </tr>\n",
       "    <tr>\n",
       "      <th>4</th>\n",
       "      <td>me ready go supermarket covid19 outbreak not im paranoid food stock litteraly empty the coronavirus serious thing please dont panic it cause shortage coronavirusfrance restezchezvous stayathome confinement</td>\n",
       "      <td>Extremely Negative</td>\n",
       "    </tr>\n",
       "  </tbody>\n",
       "</table>\n",
       "</div>"
      ],
      "text/plain": [
       "                                                                                                                                                                                                    OriginalTweet  \\\n",
       "0                                                                                                                                                                                    menyrbie philgahan chrisitv    \n",
       "1                      advice talk neighbour family exchange phone number create contact list phone number neighbour school employer chemist gp set online shopping account po adequate supply regular med order    \n",
       "2                                                                                                            coronavirus australia woolworth give elderly disabled dedicated shopping hour amid covid19 outbreak    \n",
       "3        my food stock one empty please dont panic there will be enough food for everyone take need stay calm stay safe covid19france covid19 covid19 coronavirus confinement confinementotal confinementgeneral    \n",
       "4  me ready go supermarket covid19 outbreak not im paranoid food stock litteraly empty the coronavirus serious thing please dont panic it cause shortage coronavirusfrance restezchezvous stayathome confinement    \n",
       "\n",
       "            Sentiment  \n",
       "0             Neutral  \n",
       "1            Positive  \n",
       "2            Positive  \n",
       "3            Positive  \n",
       "4  Extremely Negative  "
      ]
     },
     "execution_count": 291,
     "metadata": {},
     "output_type": "execute_result"
    }
   ],
   "source": [
    "# Apply preprocessing steps to 'OriginalTweet' column in df_train\n",
    "df_train['OriginalTweet'] = df_train['OriginalTweet'].apply(remove_urls)\n",
    "df_train['OriginalTweet'] = df_train['OriginalTweet'].apply(remove_punctuation)\n",
    "df_train['OriginalTweet'] = df_train['OriginalTweet'].apply(remove_stop_words)\n",
    "df_train['OriginalTweet'] = df_train['OriginalTweet'].apply(lower_case)\n",
    "df_train['OriginalTweet'] = df_train['OriginalTweet'].apply(lemmatize)\n",
    "\n",
    "df_train.head()"
   ]
  },
  {
   "cell_type": "code",
   "execution_count": 292,
   "metadata": {},
   "outputs": [
    {
     "data": {
      "text/html": [
       "<div>\n",
       "<style scoped>\n",
       "    .dataframe tbody tr th:only-of-type {\n",
       "        vertical-align: middle;\n",
       "    }\n",
       "\n",
       "    .dataframe tbody tr th {\n",
       "        vertical-align: top;\n",
       "    }\n",
       "\n",
       "    .dataframe thead th {\n",
       "        text-align: right;\n",
       "    }\n",
       "</style>\n",
       "<table border=\"1\" class=\"dataframe\">\n",
       "  <thead>\n",
       "    <tr style=\"text-align: right;\">\n",
       "      <th></th>\n",
       "      <th>OriginalTweet</th>\n",
       "      <th>Sentiment</th>\n",
       "    </tr>\n",
       "  </thead>\n",
       "  <tbody>\n",
       "    <tr>\n",
       "      <th>0</th>\n",
       "      <td>trending new yorkers encounter empty supermarket shelf pictured wegmans brooklyn soldout online grocer foodkick maxdelivery coronavirusfearing shopper stock</td>\n",
       "      <td>Extremely Negative</td>\n",
       "    </tr>\n",
       "    <tr>\n",
       "      <th>1</th>\n",
       "      <td>when i couldnt find hand sanitizer fred meyer i turned amazon but 11497 2 pack purellcheck coronavirus concern driving price</td>\n",
       "      <td>Positive</td>\n",
       "    </tr>\n",
       "    <tr>\n",
       "      <th>2</th>\n",
       "      <td>find protect loved one coronavirus</td>\n",
       "      <td>Extremely Positive</td>\n",
       "    </tr>\n",
       "    <tr>\n",
       "      <th>3</th>\n",
       "      <td>panic buying hit newyork city anxious shopper stock foodampmedical supply healthcare worker 30 becomes bigapple 1st confirmed coronavirus patient or bloomberg staged event qanon qanon2018 qanon2020 election2020 cdc</td>\n",
       "      <td>Negative</td>\n",
       "    </tr>\n",
       "    <tr>\n",
       "      <th>4</th>\n",
       "      <td>toiletpaper dunnypaper coronavirus coronavirusaustralia coronavirusupdate covid19 9news corvid19 7newsmelb dunnypapergate costco one week everyone buying baby milk powder next everyone buying toilet paper</td>\n",
       "      <td>Neutral</td>\n",
       "    </tr>\n",
       "  </tbody>\n",
       "</table>\n",
       "</div>"
      ],
      "text/plain": [
       "                                                                                                                                                                                                             OriginalTweet  \\\n",
       "0                                                            trending new yorkers encounter empty supermarket shelf pictured wegmans brooklyn soldout online grocer foodkick maxdelivery coronavirusfearing shopper stock    \n",
       "1                                                                                            when i couldnt find hand sanitizer fred meyer i turned amazon but 11497 2 pack purellcheck coronavirus concern driving price    \n",
       "2                                                                                                                                                                                      find protect loved one coronavirus    \n",
       "3  panic buying hit newyork city anxious shopper stock foodampmedical supply healthcare worker 30 becomes bigapple 1st confirmed coronavirus patient or bloomberg staged event qanon qanon2018 qanon2020 election2020 cdc    \n",
       "4            toiletpaper dunnypaper coronavirus coronavirusaustralia coronavirusupdate covid19 9news corvid19 7newsmelb dunnypapergate costco one week everyone buying baby milk powder next everyone buying toilet paper    \n",
       "\n",
       "            Sentiment  \n",
       "0  Extremely Negative  \n",
       "1            Positive  \n",
       "2  Extremely Positive  \n",
       "3            Negative  \n",
       "4             Neutral  "
      ]
     },
     "execution_count": 292,
     "metadata": {},
     "output_type": "execute_result"
    }
   ],
   "source": [
    "# Apply preprocessing steps to 'OriginalTweet' column in df_test\n",
    "df_test['OriginalTweet'] = df_test['OriginalTweet'].apply(remove_urls)\n",
    "df_test['OriginalTweet'] = df_test['OriginalTweet'].apply(remove_punctuation)\n",
    "df_test['OriginalTweet'] = df_test['OriginalTweet'].apply(remove_stop_words)\n",
    "df_test['OriginalTweet'] = df_test['OriginalTweet'].apply(lower_case)\n",
    "df_test['OriginalTweet'] = df_test['OriginalTweet'].apply(lemmatize)\n",
    "\n",
    "df_test.head()"
   ]
  },
  {
   "cell_type": "markdown",
   "metadata": {},
   "source": [
    "## Naive Bayes Classifier"
   ]
  },
  {
   "cell_type": "code",
   "execution_count": 181,
   "metadata": {},
   "outputs": [],
   "source": [
    "from sklearn import feature_extraction\n",
    "from sklearn.metrics import confusion_matrix\n",
    "from sklearn import model_selection as ms\n",
    "from sklearn import naive_bayes\n",
    "from sklearn.metrics import classification_report"
   ]
  },
  {
   "cell_type": "markdown",
   "metadata": {},
   "source": [
    "### Encode the text by word count "
   ]
  },
  {
   "cell_type": "code",
   "execution_count": 293,
   "metadata": {},
   "outputs": [
    {
     "data": {
      "text/plain": [
       "(41157, 58351)"
      ]
     },
     "execution_count": 293,
     "metadata": {},
     "output_type": "execute_result"
    }
   ],
   "source": [
    "counts = feature_extraction.text.CountVectorizer()\n",
    "X = counts.fit_transform(df_train['OriginalTweet'].values)\n",
    "X.shape"
   ]
  },
  {
   "cell_type": "code",
   "execution_count": 294,
   "metadata": {},
   "outputs": [
    {
     "data": {
      "text/plain": [
       "(41157,)"
      ]
     },
     "execution_count": 294,
     "metadata": {},
     "output_type": "execute_result"
    }
   ],
   "source": [
    "y = df_train['Sentiment'].values\n",
    "y.shape"
   ]
  },
  {
   "cell_type": "markdown",
   "metadata": {},
   "source": [
    "### Train a Naive Bayes Classifier"
   ]
  },
  {
   "cell_type": "code",
   "execution_count": 295,
   "metadata": {},
   "outputs": [],
   "source": [
    "# train test split the data\n",
    "X_train, X_test, y_train, y_test = ms.train_test_split(X, y, test_size=0.2, random_state=42)"
   ]
  },
  {
   "cell_type": "code",
   "execution_count": 296,
   "metadata": {},
   "outputs": [
    {
     "data": {
      "text/html": [
       "<style>#sk-container-id-9 {color: black;}#sk-container-id-9 pre{padding: 0;}#sk-container-id-9 div.sk-toggleable {background-color: white;}#sk-container-id-9 label.sk-toggleable__label {cursor: pointer;display: block;width: 100%;margin-bottom: 0;padding: 0.3em;box-sizing: border-box;text-align: center;}#sk-container-id-9 label.sk-toggleable__label-arrow:before {content: \"▸\";float: left;margin-right: 0.25em;color: #696969;}#sk-container-id-9 label.sk-toggleable__label-arrow:hover:before {color: black;}#sk-container-id-9 div.sk-estimator:hover label.sk-toggleable__label-arrow:before {color: black;}#sk-container-id-9 div.sk-toggleable__content {max-height: 0;max-width: 0;overflow: hidden;text-align: left;background-color: #f0f8ff;}#sk-container-id-9 div.sk-toggleable__content pre {margin: 0.2em;color: black;border-radius: 0.25em;background-color: #f0f8ff;}#sk-container-id-9 input.sk-toggleable__control:checked~div.sk-toggleable__content {max-height: 200px;max-width: 100%;overflow: auto;}#sk-container-id-9 input.sk-toggleable__control:checked~label.sk-toggleable__label-arrow:before {content: \"▾\";}#sk-container-id-9 div.sk-estimator input.sk-toggleable__control:checked~label.sk-toggleable__label {background-color: #d4ebff;}#sk-container-id-9 div.sk-label input.sk-toggleable__control:checked~label.sk-toggleable__label {background-color: #d4ebff;}#sk-container-id-9 input.sk-hidden--visually {border: 0;clip: rect(1px 1px 1px 1px);clip: rect(1px, 1px, 1px, 1px);height: 1px;margin: -1px;overflow: hidden;padding: 0;position: absolute;width: 1px;}#sk-container-id-9 div.sk-estimator {font-family: monospace;background-color: #f0f8ff;border: 1px dotted black;border-radius: 0.25em;box-sizing: border-box;margin-bottom: 0.5em;}#sk-container-id-9 div.sk-estimator:hover {background-color: #d4ebff;}#sk-container-id-9 div.sk-parallel-item::after {content: \"\";width: 100%;border-bottom: 1px solid gray;flex-grow: 1;}#sk-container-id-9 div.sk-label:hover label.sk-toggleable__label {background-color: #d4ebff;}#sk-container-id-9 div.sk-serial::before {content: \"\";position: absolute;border-left: 1px solid gray;box-sizing: border-box;top: 0;bottom: 0;left: 50%;z-index: 0;}#sk-container-id-9 div.sk-serial {display: flex;flex-direction: column;align-items: center;background-color: white;padding-right: 0.2em;padding-left: 0.2em;position: relative;}#sk-container-id-9 div.sk-item {position: relative;z-index: 1;}#sk-container-id-9 div.sk-parallel {display: flex;align-items: stretch;justify-content: center;background-color: white;position: relative;}#sk-container-id-9 div.sk-item::before, #sk-container-id-9 div.sk-parallel-item::before {content: \"\";position: absolute;border-left: 1px solid gray;box-sizing: border-box;top: 0;bottom: 0;left: 50%;z-index: -1;}#sk-container-id-9 div.sk-parallel-item {display: flex;flex-direction: column;z-index: 1;position: relative;background-color: white;}#sk-container-id-9 div.sk-parallel-item:first-child::after {align-self: flex-end;width: 50%;}#sk-container-id-9 div.sk-parallel-item:last-child::after {align-self: flex-start;width: 50%;}#sk-container-id-9 div.sk-parallel-item:only-child::after {width: 0;}#sk-container-id-9 div.sk-dashed-wrapped {border: 1px dashed gray;margin: 0 0.4em 0.5em 0.4em;box-sizing: border-box;padding-bottom: 0.4em;background-color: white;}#sk-container-id-9 div.sk-label label {font-family: monospace;font-weight: bold;display: inline-block;line-height: 1.2em;}#sk-container-id-9 div.sk-label-container {text-align: center;}#sk-container-id-9 div.sk-container {/* jupyter's `normalize.less` sets `[hidden] { display: none; }` but bootstrap.min.css set `[hidden] { display: none !important; }` so we also need the `!important` here to be able to override the default hidden behavior on the sphinx rendered scikit-learn.org. See: https://github.com/scikit-learn/scikit-learn/issues/21755 */display: inline-block !important;position: relative;}#sk-container-id-9 div.sk-text-repr-fallback {display: none;}</style><div id=\"sk-container-id-9\" class=\"sk-top-container\"><div class=\"sk-text-repr-fallback\"><pre>MultinomialNB()</pre><b>In a Jupyter environment, please rerun this cell to show the HTML representation or trust the notebook. <br />On GitHub, the HTML representation is unable to render, please try loading this page with nbviewer.org.</b></div><div class=\"sk-container\" hidden><div class=\"sk-item\"><div class=\"sk-estimator sk-toggleable\"><input class=\"sk-toggleable__control sk-hidden--visually\" id=\"sk-estimator-id-9\" type=\"checkbox\" checked><label for=\"sk-estimator-id-9\" class=\"sk-toggleable__label sk-toggleable__label-arrow\">MultinomialNB</label><div class=\"sk-toggleable__content\"><pre>MultinomialNB()</pre></div></div></div></div></div>"
      ],
      "text/plain": [
       "MultinomialNB()"
      ]
     },
     "execution_count": 296,
     "metadata": {},
     "output_type": "execute_result"
    }
   ],
   "source": [
    "nb_model = naive_bayes.MultinomialNB()\n",
    "nb_model.fit(X_train, y_train)"
   ]
  },
  {
   "cell_type": "code",
   "execution_count": 297,
   "metadata": {},
   "outputs": [
    {
     "data": {
      "text/plain": [
       "0.7423234624145786"
      ]
     },
     "execution_count": 297,
     "metadata": {},
     "output_type": "execute_result"
    }
   ],
   "source": [
    "nb_model.score(X_train, y_train)"
   ]
  },
  {
   "cell_type": "code",
   "execution_count": 298,
   "metadata": {},
   "outputs": [
    {
     "data": {
      "text/plain": [
       "0.467201166180758"
      ]
     },
     "execution_count": 298,
     "metadata": {},
     "output_type": "execute_result"
    }
   ],
   "source": [
    "nb_model.score(X_test, y_test)"
   ]
  },
  {
   "cell_type": "markdown",
   "metadata": {},
   "source": [
    "#### **Test Accuracy: 46.72%**"
   ]
  },
  {
   "cell_type": "markdown",
   "metadata": {},
   "source": [
    "Test Accuracy is not satisfactory. Let's use hyperparameter tuning to improve the accuracy of our model."
   ]
  },
  {
   "cell_type": "markdown",
   "metadata": {},
   "source": [
    "### Hyperparameter Tuning of the Naive Bayes Classifier"
   ]
  },
  {
   "cell_type": "code",
   "execution_count": 299,
   "metadata": {},
   "outputs": [
    {
     "name": "stderr",
     "output_type": "stream",
     "text": [
      "[I 2024-03-17 06:21:12,716] A new study created in memory with name: no-name-4729ce6f-012e-4369-82df-58e65794ddef\n"
     ]
    },
    {
     "name": "stderr",
     "output_type": "stream",
     "text": [
      "[I 2024-03-17 06:21:13,146] Trial 0 finished with value: 0.4748542274052478 and parameters: {'alpha': 0.30295531210480775}. Best is trial 0 with value: 0.4748542274052478.\n",
      "[I 2024-03-17 06:21:13,271] Trial 1 finished with value: 0.46987366375121475 and parameters: {'alpha': 0.19280844019045085}. Best is trial 0 with value: 0.4748542274052478.\n",
      "[I 2024-03-17 06:21:13,381] Trial 2 finished with value: 0.47339650145772594 and parameters: {'alpha': 0.8092778684322488}. Best is trial 0 with value: 0.4748542274052478.\n",
      "[I 2024-03-17 06:21:13,531] Trial 3 finished with value: 0.4586977648202138 and parameters: {'alpha': 0.07168938264552382}. Best is trial 0 with value: 0.4748542274052478.\n",
      "[I 2024-03-17 06:21:13,651] Trial 4 finished with value: 0.4776482021379981 and parameters: {'alpha': 0.4352754385476897}. Best is trial 4 with value: 0.4776482021379981.\n",
      "[I 2024-03-17 06:21:13,798] Trial 5 finished with value: 0.4780126336248785 and parameters: {'alpha': 0.6161259030305453}. Best is trial 5 with value: 0.4780126336248785.\n",
      "[I 2024-03-17 06:21:13,933] Trial 6 finished with value: 0.4784985422740525 and parameters: {'alpha': 0.6630927747462141}. Best is trial 6 with value: 0.4784985422740525.\n",
      "[I 2024-03-17 06:21:14,079] Trial 7 finished with value: 0.446064139941691 and parameters: {'alpha': 0.02942315337490553}. Best is trial 6 with value: 0.4784985422740525.\n",
      "[I 2024-03-17 06:21:14,199] Trial 8 finished with value: 0.4750971817298348 and parameters: {'alpha': 0.7594141722037497}. Best is trial 6 with value: 0.4784985422740525.\n",
      "[I 2024-03-17 06:21:14,313] Trial 9 finished with value: 0.47862001943634597 and parameters: {'alpha': 0.45064309183956475}. Best is trial 9 with value: 0.47862001943634597.\n",
      "[I 2024-03-17 06:21:14,494] Trial 10 finished with value: 0.4686588921282799 and parameters: {'alpha': 0.9633912601670519}. Best is trial 9 with value: 0.47862001943634597.\n",
      "[I 2024-03-17 06:21:14,647] Trial 11 finished with value: 0.4772837706511176 and parameters: {'alpha': 0.498133499872278}. Best is trial 9 with value: 0.47862001943634597.\n",
      "[I 2024-03-17 06:21:14,799] Trial 12 finished with value: 0.477891156462585 and parameters: {'alpha': 0.6243348886930373}. Best is trial 9 with value: 0.47862001943634597.\n",
      "[I 2024-03-17 06:21:14,931] Trial 13 finished with value: 0.47582604470359574 and parameters: {'alpha': 0.3320037746277492}. Best is trial 9 with value: 0.47862001943634597.\n",
      "[I 2024-03-17 06:21:15,081] Trial 14 finished with value: 0.47679786200194363 and parameters: {'alpha': 0.6894915529964811}. Best is trial 9 with value: 0.47862001943634597.\n",
      "[I 2024-03-17 06:21:15,214] Trial 15 finished with value: 0.4707240038872692 and parameters: {'alpha': 0.906845870969898}. Best is trial 9 with value: 0.47862001943634597.\n",
      "[I 2024-03-17 06:21:15,331] Trial 16 finished with value: 0.4774052478134111 and parameters: {'alpha': 0.3922780380964871}. Best is trial 9 with value: 0.47862001943634597.\n",
      "[I 2024-03-17 06:21:15,480] Trial 17 finished with value: 0.4774052478134111 and parameters: {'alpha': 0.5896825498542967}. Best is trial 9 with value: 0.47862001943634597.\n",
      "[I 2024-03-17 06:21:15,636] Trial 18 finished with value: 0.47679786200194363 and parameters: {'alpha': 0.5256352180759165}. Best is trial 9 with value: 0.47862001943634597.\n",
      "[I 2024-03-17 06:21:15,772] Trial 19 finished with value: 0.4710884353741497 and parameters: {'alpha': 0.2347807976206237}. Best is trial 9 with value: 0.47862001943634597.\n",
      "[I 2024-03-17 06:21:15,917] Trial 20 finished with value: 0.4750971817298348 and parameters: {'alpha': 0.7664409862568873}. Best is trial 9 with value: 0.47862001943634597.\n",
      "[I 2024-03-17 06:21:16,057] Trial 21 finished with value: 0.4780126336248785 and parameters: {'alpha': 0.6370234455293001}. Best is trial 9 with value: 0.47862001943634597.\n",
      "[I 2024-03-17 06:21:16,190] Trial 22 finished with value: 0.4771622934888241 and parameters: {'alpha': 0.526990631469343}. Best is trial 9 with value: 0.47862001943634597.\n",
      "[I 2024-03-17 06:21:16,334] Trial 23 finished with value: 0.47582604470359574 and parameters: {'alpha': 0.7076409523346284}. Best is trial 9 with value: 0.47862001943634597.\n",
      "[I 2024-03-17 06:21:16,482] Trial 24 finished with value: 0.47776967930029157 and parameters: {'alpha': 0.44139327050980004}. Best is trial 9 with value: 0.47862001943634597.\n",
      "[I 2024-03-17 06:21:16,600] Trial 25 finished with value: 0.4718172983479106 and parameters: {'alpha': 0.8835077324402183}. Best is trial 9 with value: 0.47862001943634597.\n",
      "[I 2024-03-17 06:21:16,728] Trial 26 finished with value: 0.4782555879494655 and parameters: {'alpha': 0.6282727123943608}. Best is trial 9 with value: 0.47862001943634597.\n",
      "[I 2024-03-17 06:21:16,849] Trial 27 finished with value: 0.4760689990281827 and parameters: {'alpha': 0.5487680462721297}. Best is trial 9 with value: 0.47862001943634597.\n",
      "[I 2024-03-17 06:21:16,991] Trial 28 finished with value: 0.47679786200194363 and parameters: {'alpha': 0.6947018560520144}. Best is trial 9 with value: 0.47862001943634597.\n",
      "[I 2024-03-17 06:21:17,220] Trial 29 finished with value: 0.47558309037900875 and parameters: {'alpha': 0.3277024969276326}. Best is trial 9 with value: 0.47862001943634597.\n",
      "[I 2024-03-17 06:21:17,341] Trial 30 finished with value: 0.4784985422740525 and parameters: {'alpha': 0.45648748603005007}. Best is trial 9 with value: 0.47862001943634597.\n",
      "[I 2024-03-17 06:21:17,450] Trial 31 finished with value: 0.4784985422740525 and parameters: {'alpha': 0.4535142776649784}. Best is trial 9 with value: 0.47862001943634597.\n",
      "[I 2024-03-17 06:21:17,574] Trial 32 finished with value: 0.4714528668610301 and parameters: {'alpha': 0.23134181884868665}. Best is trial 9 with value: 0.47862001943634597.\n",
      "[I 2024-03-17 06:21:17,688] Trial 33 finished with value: 0.4776482021379981 and parameters: {'alpha': 0.432694503780112}. Best is trial 9 with value: 0.47862001943634597.\n",
      "[I 2024-03-17 06:21:17,804] Trial 34 finished with value: 0.4769193391642371 and parameters: {'alpha': 0.37469402227615933}. Best is trial 9 with value: 0.47862001943634597.\n",
      "[I 2024-03-17 06:21:17,918] Trial 35 finished with value: 0.46938775510204084 and parameters: {'alpha': 0.157641400285208}. Best is trial 9 with value: 0.47862001943634597.\n",
      "[I 2024-03-17 06:21:18,035] Trial 36 finished with value: 0.4784985422740525 and parameters: {'alpha': 0.4540277828520046}. Best is trial 9 with value: 0.47862001943634597.\n",
      "[I 2024-03-17 06:21:18,155] Trial 37 finished with value: 0.4770408163265306 and parameters: {'alpha': 0.47636737508123883}. Best is trial 9 with value: 0.47862001943634597.\n",
      "[I 2024-03-17 06:21:18,289] Trial 38 finished with value: 0.47679786200194363 and parameters: {'alpha': 0.38862045215556085}. Best is trial 9 with value: 0.47862001943634597.\n",
      "[I 2024-03-17 06:21:18,405] Trial 39 finished with value: 0.4770408163265306 and parameters: {'alpha': 0.545738115982653}. Best is trial 9 with value: 0.47862001943634597.\n",
      "[I 2024-03-17 06:21:18,520] Trial 40 finished with value: 0.4749757045675413 and parameters: {'alpha': 0.30640349126933974}. Best is trial 9 with value: 0.47862001943634597.\n",
      "[I 2024-03-17 06:21:18,638] Trial 41 finished with value: 0.4780126336248785 and parameters: {'alpha': 0.4659470773219327}. Best is trial 9 with value: 0.47862001943634597.\n",
      "[I 2024-03-17 06:21:18,752] Trial 42 finished with value: 0.4770408163265306 and parameters: {'alpha': 0.5859144508891296}. Best is trial 9 with value: 0.47862001943634597.\n",
      "[I 2024-03-17 06:21:18,852] Trial 43 finished with value: 0.4774052478134111 and parameters: {'alpha': 0.41175452230082227}. Best is trial 9 with value: 0.47862001943634597.\n",
      "[I 2024-03-17 06:21:18,994] Trial 44 finished with value: 0.4736394557823129 and parameters: {'alpha': 0.2647452780290203}. Best is trial 9 with value: 0.47862001943634597.\n",
      "[I 2024-03-17 06:21:19,121] Trial 45 finished with value: 0.4769193391642371 and parameters: {'alpha': 0.4899599943604698}. Best is trial 9 with value: 0.47862001943634597.\n",
      "[I 2024-03-17 06:21:19,254] Trial 46 finished with value: 0.4760689990281827 and parameters: {'alpha': 0.3654920635000048}. Best is trial 9 with value: 0.47862001943634597.\n",
      "[I 2024-03-17 06:21:19,369] Trial 47 finished with value: 0.478134110787172 and parameters: {'alpha': 0.4590969418784962}. Best is trial 9 with value: 0.47862001943634597.\n",
      "[I 2024-03-17 06:21:19,512] Trial 48 finished with value: 0.4770408163265306 and parameters: {'alpha': 0.5838345851392264}. Best is trial 9 with value: 0.47862001943634597.\n",
      "[I 2024-03-17 06:21:19,637] Trial 49 finished with value: 0.46938775510204084 and parameters: {'alpha': 0.15547031250197396}. Best is trial 9 with value: 0.47862001943634597.\n",
      "[I 2024-03-17 06:21:19,753] Trial 50 finished with value: 0.47339650145772594 and parameters: {'alpha': 0.8142541362944657}. Best is trial 9 with value: 0.47862001943634597.\n",
      "[I 2024-03-17 06:21:19,898] Trial 51 finished with value: 0.477891156462585 and parameters: {'alpha': 0.6337076934133578}. Best is trial 9 with value: 0.47862001943634597.\n",
      "[I 2024-03-17 06:21:20,018] Trial 52 finished with value: 0.47594752186588923 and parameters: {'alpha': 0.7300678474387785}. Best is trial 9 with value: 0.47862001943634597.\n",
      "[I 2024-03-17 06:21:20,133] Trial 53 finished with value: 0.4776482021379981 and parameters: {'alpha': 0.6714625691092472}. Best is trial 9 with value: 0.47862001943634597.\n",
      "[I 2024-03-17 06:21:20,266] Trial 54 finished with value: 0.4771622934888241 and parameters: {'alpha': 0.5089299192529442}. Best is trial 9 with value: 0.47862001943634597.\n",
      "[I 2024-03-17 06:21:20,401] Trial 55 finished with value: 0.4771622934888241 and parameters: {'alpha': 0.5883423032660744}. Best is trial 9 with value: 0.47862001943634597.\n",
      "[I 2024-03-17 06:21:20,516] Trial 56 finished with value: 0.4760689990281827 and parameters: {'alpha': 0.3494867831071656}. Best is trial 9 with value: 0.47862001943634597.\n",
      "[I 2024-03-17 06:21:20,645] Trial 57 finished with value: 0.47631195335276966 and parameters: {'alpha': 0.5521762566695674}. Best is trial 9 with value: 0.47862001943634597.\n",
      "[I 2024-03-17 06:21:20,761] Trial 58 finished with value: 0.47874149659863946 and parameters: {'alpha': 0.6644811285386676}. Best is trial 58 with value: 0.47874149659863946.\n",
      "[I 2024-03-17 06:21:20,876] Trial 59 finished with value: 0.4738824101068999 and parameters: {'alpha': 0.7964930653387075}. Best is trial 58 with value: 0.47874149659863946.\n",
      "[I 2024-03-17 06:21:20,996] Trial 60 finished with value: 0.47874149659863946 and parameters: {'alpha': 0.6655022119803635}. Best is trial 58 with value: 0.47874149659863946.\n",
      "[I 2024-03-17 06:21:21,132] Trial 61 finished with value: 0.478377065111759 and parameters: {'alpha': 0.6662963403095798}. Best is trial 58 with value: 0.47874149659863946.\n",
      "[I 2024-03-17 06:21:21,255] Trial 62 finished with value: 0.47776967930029157 and parameters: {'alpha': 0.41351038748605035}. Best is trial 58 with value: 0.47874149659863946.\n",
      "[I 2024-03-17 06:21:21,378] Trial 63 finished with value: 0.4772837706511176 and parameters: {'alpha': 0.509227776237938}. Best is trial 58 with value: 0.47874149659863946.\n",
      "[I 2024-03-17 06:21:21,495] Trial 64 finished with value: 0.47619047619047616 and parameters: {'alpha': 0.7415590823210674}. Best is trial 58 with value: 0.47874149659863946.\n",
      "[I 2024-03-17 06:21:21,609] Trial 65 finished with value: 0.4719387755102041 and parameters: {'alpha': 0.8457521620204802}. Best is trial 58 with value: 0.47874149659863946.\n",
      "[I 2024-03-17 06:21:21,740] Trial 66 finished with value: 0.4775267249757046 and parameters: {'alpha': 0.4281002197314129}. Best is trial 58 with value: 0.47874149659863946.\n",
      "[I 2024-03-17 06:21:21,863] Trial 67 finished with value: 0.47862001943634597 and parameters: {'alpha': 0.6618946990646036}. Best is trial 58 with value: 0.47874149659863946.\n",
      "[I 2024-03-17 06:21:21,964] Trial 68 finished with value: 0.47874149659863946 and parameters: {'alpha': 0.6554657873959665}. Best is trial 58 with value: 0.47874149659863946.\n",
      "[I 2024-03-17 06:21:22,081] Trial 69 finished with value: 0.47631195335276966 and parameters: {'alpha': 0.7146245821064082}. Best is trial 58 with value: 0.47874149659863946.\n",
      "[I 2024-03-17 06:21:22,193] Trial 70 finished with value: 0.47874149659863946 and parameters: {'alpha': 0.6572309938983457}. Best is trial 58 with value: 0.47874149659863946.\n",
      "[I 2024-03-17 06:21:22,344] Trial 71 finished with value: 0.47874149659863946 and parameters: {'alpha': 0.6584610812789315}. Best is trial 58 with value: 0.47874149659863946.\n",
      "[I 2024-03-17 06:21:22,469] Trial 72 finished with value: 0.478377065111759 and parameters: {'alpha': 0.6684513297564137}. Best is trial 58 with value: 0.47874149659863946.\n",
      "[I 2024-03-17 06:21:22,571] Trial 73 finished with value: 0.4742468415937804 and parameters: {'alpha': 0.7811655840358345}. Best is trial 58 with value: 0.47874149659863946.\n",
      "[I 2024-03-17 06:21:22,708] Trial 74 finished with value: 0.478134110787172 and parameters: {'alpha': 0.6120790845175097}. Best is trial 58 with value: 0.47874149659863946.\n",
      "[I 2024-03-17 06:21:22,812] Trial 75 finished with value: 0.47874149659863946 and parameters: {'alpha': 0.6553311869394688}. Best is trial 58 with value: 0.47874149659863946.\n",
      "[I 2024-03-17 06:21:22,944] Trial 76 finished with value: 0.47594752186588923 and parameters: {'alpha': 0.753770407957887}. Best is trial 58 with value: 0.47874149659863946.\n",
      "[I 2024-03-17 06:21:23,075] Trial 77 finished with value: 0.47910592808551994 and parameters: {'alpha': 0.6447207649436705}. Best is trial 77 with value: 0.47910592808551994.\n",
      "[I 2024-03-17 06:21:23,201] Trial 78 finished with value: 0.47582604470359574 and parameters: {'alpha': 0.7073228376441769}. Best is trial 77 with value: 0.47910592808551994.\n",
      "[I 2024-03-17 06:21:23,303] Trial 79 finished with value: 0.478377065111759 and parameters: {'alpha': 0.6126379571004301}. Best is trial 77 with value: 0.47910592808551994.\n",
      "[I 2024-03-17 06:21:23,418] Trial 80 finished with value: 0.47910592808551994 and parameters: {'alpha': 0.6464565306136965}. Best is trial 77 with value: 0.47910592808551994.\n",
      "[I 2024-03-17 06:21:23,539] Trial 81 finished with value: 0.47898445092322645 and parameters: {'alpha': 0.6462770612734366}. Best is trial 77 with value: 0.47910592808551994.\n",
      "[I 2024-03-17 06:21:23,659] Trial 82 finished with value: 0.4769193391642371 and parameters: {'alpha': 0.6854400244635124}. Best is trial 77 with value: 0.47910592808551994.\n",
      "[I 2024-03-17 06:21:23,793] Trial 83 finished with value: 0.47910592808551994 and parameters: {'alpha': 0.6476416570945089}. Best is trial 77 with value: 0.47910592808551994.\n",
      "[I 2024-03-17 06:21:23,906] Trial 84 finished with value: 0.47546161321671526 and parameters: {'alpha': 0.5669538220566401}. Best is trial 77 with value: 0.47910592808551994.\n",
      "[I 2024-03-17 06:21:24,020] Trial 85 finished with value: 0.477891156462585 and parameters: {'alpha': 0.6342107213989256}. Best is trial 77 with value: 0.47910592808551994.\n",
      "[I 2024-03-17 06:21:24,133] Trial 86 finished with value: 0.47594752186588923 and parameters: {'alpha': 0.7306700574288127}. Best is trial 77 with value: 0.47910592808551994.\n",
      "[I 2024-03-17 06:21:24,249] Trial 87 finished with value: 0.4772837706511176 and parameters: {'alpha': 0.6034637490552677}. Best is trial 77 with value: 0.47910592808551994.\n",
      "[I 2024-03-17 06:21:24,359] Trial 88 finished with value: 0.47898445092322645 and parameters: {'alpha': 0.6483182132034294}. Best is trial 77 with value: 0.47910592808551994.\n",
      "[I 2024-03-17 06:21:24,560] Trial 89 finished with value: 0.47631195335276966 and parameters: {'alpha': 0.7037926466561425}. Best is trial 77 with value: 0.47910592808551994.\n",
      "[I 2024-03-17 06:21:24,704] Trial 90 finished with value: 0.47679786200194363 and parameters: {'alpha': 0.6871445202673895}. Best is trial 77 with value: 0.47910592808551994.\n",
      "[I 2024-03-17 06:21:24,838] Trial 91 finished with value: 0.47862001943634597 and parameters: {'alpha': 0.6414630880066953}. Best is trial 77 with value: 0.47910592808551994.\n",
      "[I 2024-03-17 06:21:24,955] Trial 92 finished with value: 0.47534013605442177 and parameters: {'alpha': 0.5704994180700941}. Best is trial 77 with value: 0.47910592808551994.\n",
      "[I 2024-03-17 06:21:25,064] Trial 93 finished with value: 0.47910592808551994 and parameters: {'alpha': 0.6466712713146145}. Best is trial 77 with value: 0.47910592808551994.\n",
      "[I 2024-03-17 06:21:25,211] Trial 94 finished with value: 0.4776482021379981 and parameters: {'alpha': 0.6043860579165262}. Best is trial 77 with value: 0.47910592808551994.\n",
      "[I 2024-03-17 06:21:25,329] Trial 95 finished with value: 0.4746112730806608 and parameters: {'alpha': 0.7745156556084952}. Best is trial 77 with value: 0.47910592808551994.\n",
      "[I 2024-03-17 06:21:25,445] Trial 96 finished with value: 0.477891156462585 and parameters: {'alpha': 0.6349169697916316}. Best is trial 77 with value: 0.47910592808551994.\n",
      "[I 2024-03-17 06:21:25,570] Trial 97 finished with value: 0.4769193391642371 and parameters: {'alpha': 0.5328075227939661}. Best is trial 77 with value: 0.47910592808551994.\n",
      "[I 2024-03-17 06:21:25,687] Trial 98 finished with value: 0.47558309037900875 and parameters: {'alpha': 0.7270835878746544}. Best is trial 77 with value: 0.47910592808551994.\n",
      "[I 2024-03-17 06:21:25,800] Trial 99 finished with value: 0.47679786200194363 and parameters: {'alpha': 0.687000323774469}. Best is trial 77 with value: 0.47910592808551994.\n"
     ]
    }
   ],
   "source": [
    "import optuna\n",
    "from sklearn.naive_bayes import MultinomialNB\n",
    "from sklearn.metrics import accuracy_score\n",
    "from sklearn.model_selection import train_test_split\n",
    "\n",
    "# Define objective function for hyperparameter optimization\n",
    "def objective(trial):\n",
    "    alpha = trial.suggest_float('alpha', 0.0, 1.0)\n",
    "    \n",
    "    # Initialize and train Multinomial Naive Bayes classifier with the chosen alpha\n",
    "    naive_bayes = MultinomialNB(alpha=alpha)\n",
    "    naive_bayes.fit(X_train, y_train)\n",
    "    \n",
    "    # Evaluate accuracy on validation set\n",
    "    y_pred = naive_bayes.predict(X_val)\n",
    "    accuracy = accuracy_score(y_val, y_pred)\n",
    "    \n",
    "    return accuracy\n",
    "\n",
    "# Split data into training and validation sets\n",
    "X_train, X_val, y_train, y_val = train_test_split(X, y, test_size=0.2, random_state=42)\n",
    "\n",
    "# Define study and optimize hyperparameters\n",
    "study = optuna.create_study(direction='maximize')\n",
    "study.optimize(objective, n_trials=100)"
   ]
  },
  {
   "cell_type": "code",
   "execution_count": 300,
   "metadata": {},
   "outputs": [
    {
     "data": {
      "text/plain": [
       "{'alpha': 0.6447207649436705}"
      ]
     },
     "execution_count": 300,
     "metadata": {},
     "output_type": "execute_result"
    }
   ],
   "source": [
    "# Get the best hyperparameters\n",
    "best_params = study.best_params\n",
    "best_params"
   ]
  },
  {
   "cell_type": "code",
   "execution_count": 301,
   "metadata": {},
   "outputs": [
    {
     "data": {
      "text/html": [
       "<style>#sk-container-id-10 {color: black;}#sk-container-id-10 pre{padding: 0;}#sk-container-id-10 div.sk-toggleable {background-color: white;}#sk-container-id-10 label.sk-toggleable__label {cursor: pointer;display: block;width: 100%;margin-bottom: 0;padding: 0.3em;box-sizing: border-box;text-align: center;}#sk-container-id-10 label.sk-toggleable__label-arrow:before {content: \"▸\";float: left;margin-right: 0.25em;color: #696969;}#sk-container-id-10 label.sk-toggleable__label-arrow:hover:before {color: black;}#sk-container-id-10 div.sk-estimator:hover label.sk-toggleable__label-arrow:before {color: black;}#sk-container-id-10 div.sk-toggleable__content {max-height: 0;max-width: 0;overflow: hidden;text-align: left;background-color: #f0f8ff;}#sk-container-id-10 div.sk-toggleable__content pre {margin: 0.2em;color: black;border-radius: 0.25em;background-color: #f0f8ff;}#sk-container-id-10 input.sk-toggleable__control:checked~div.sk-toggleable__content {max-height: 200px;max-width: 100%;overflow: auto;}#sk-container-id-10 input.sk-toggleable__control:checked~label.sk-toggleable__label-arrow:before {content: \"▾\";}#sk-container-id-10 div.sk-estimator input.sk-toggleable__control:checked~label.sk-toggleable__label {background-color: #d4ebff;}#sk-container-id-10 div.sk-label input.sk-toggleable__control:checked~label.sk-toggleable__label {background-color: #d4ebff;}#sk-container-id-10 input.sk-hidden--visually {border: 0;clip: rect(1px 1px 1px 1px);clip: rect(1px, 1px, 1px, 1px);height: 1px;margin: -1px;overflow: hidden;padding: 0;position: absolute;width: 1px;}#sk-container-id-10 div.sk-estimator {font-family: monospace;background-color: #f0f8ff;border: 1px dotted black;border-radius: 0.25em;box-sizing: border-box;margin-bottom: 0.5em;}#sk-container-id-10 div.sk-estimator:hover {background-color: #d4ebff;}#sk-container-id-10 div.sk-parallel-item::after {content: \"\";width: 100%;border-bottom: 1px solid gray;flex-grow: 1;}#sk-container-id-10 div.sk-label:hover label.sk-toggleable__label {background-color: #d4ebff;}#sk-container-id-10 div.sk-serial::before {content: \"\";position: absolute;border-left: 1px solid gray;box-sizing: border-box;top: 0;bottom: 0;left: 50%;z-index: 0;}#sk-container-id-10 div.sk-serial {display: flex;flex-direction: column;align-items: center;background-color: white;padding-right: 0.2em;padding-left: 0.2em;position: relative;}#sk-container-id-10 div.sk-item {position: relative;z-index: 1;}#sk-container-id-10 div.sk-parallel {display: flex;align-items: stretch;justify-content: center;background-color: white;position: relative;}#sk-container-id-10 div.sk-item::before, #sk-container-id-10 div.sk-parallel-item::before {content: \"\";position: absolute;border-left: 1px solid gray;box-sizing: border-box;top: 0;bottom: 0;left: 50%;z-index: -1;}#sk-container-id-10 div.sk-parallel-item {display: flex;flex-direction: column;z-index: 1;position: relative;background-color: white;}#sk-container-id-10 div.sk-parallel-item:first-child::after {align-self: flex-end;width: 50%;}#sk-container-id-10 div.sk-parallel-item:last-child::after {align-self: flex-start;width: 50%;}#sk-container-id-10 div.sk-parallel-item:only-child::after {width: 0;}#sk-container-id-10 div.sk-dashed-wrapped {border: 1px dashed gray;margin: 0 0.4em 0.5em 0.4em;box-sizing: border-box;padding-bottom: 0.4em;background-color: white;}#sk-container-id-10 div.sk-label label {font-family: monospace;font-weight: bold;display: inline-block;line-height: 1.2em;}#sk-container-id-10 div.sk-label-container {text-align: center;}#sk-container-id-10 div.sk-container {/* jupyter's `normalize.less` sets `[hidden] { display: none; }` but bootstrap.min.css set `[hidden] { display: none !important; }` so we also need the `!important` here to be able to override the default hidden behavior on the sphinx rendered scikit-learn.org. See: https://github.com/scikit-learn/scikit-learn/issues/21755 */display: inline-block !important;position: relative;}#sk-container-id-10 div.sk-text-repr-fallback {display: none;}</style><div id=\"sk-container-id-10\" class=\"sk-top-container\"><div class=\"sk-text-repr-fallback\"><pre>MultinomialNB(alpha=0.6447207649436705)</pre><b>In a Jupyter environment, please rerun this cell to show the HTML representation or trust the notebook. <br />On GitHub, the HTML representation is unable to render, please try loading this page with nbviewer.org.</b></div><div class=\"sk-container\" hidden><div class=\"sk-item\"><div class=\"sk-estimator sk-toggleable\"><input class=\"sk-toggleable__control sk-hidden--visually\" id=\"sk-estimator-id-10\" type=\"checkbox\" checked><label for=\"sk-estimator-id-10\" class=\"sk-toggleable__label sk-toggleable__label-arrow\">MultinomialNB</label><div class=\"sk-toggleable__content\"><pre>MultinomialNB(alpha=0.6447207649436705)</pre></div></div></div></div></div>"
      ],
      "text/plain": [
       "MultinomialNB(alpha=0.6447207649436705)"
      ]
     },
     "execution_count": 301,
     "metadata": {},
     "output_type": "execute_result"
    }
   ],
   "source": [
    "nb_model = MultinomialNB(**best_params)\n",
    "nb_model.fit(X_train, y_train)"
   ]
  },
  {
   "cell_type": "code",
   "execution_count": 303,
   "metadata": {},
   "outputs": [
    {
     "data": {
      "text/plain": [
       "0.47910592808551994"
      ]
     },
     "execution_count": 303,
     "metadata": {},
     "output_type": "execute_result"
    }
   ],
   "source": [
    "nb_model.score(X_test, y_test)"
   ]
  },
  {
   "cell_type": "markdown",
   "metadata": {},
   "source": [
    "#### **Test Accuracy: 47.91%**"
   ]
  },
  {
   "cell_type": "markdown",
   "metadata": {},
   "source": [
    "Hyperparameter tuning didn't improve the accuracy much. Let's use TF-IDF vectorizer and Logistic Regression to improve the performance of our model."
   ]
  },
  {
   "cell_type": "markdown",
   "metadata": {},
   "source": [
    "## TF_IDF Vectorizer & Logistic Regression"
   ]
  },
  {
   "cell_type": "code",
   "execution_count": 304,
   "metadata": {},
   "outputs": [
    {
     "data": {
      "text/plain": [
       "(41157, 58351)"
      ]
     },
     "execution_count": 304,
     "metadata": {},
     "output_type": "execute_result"
    }
   ],
   "source": [
    "tfidf = feature_extraction.text.TfidfVectorizer()\n",
    "X = tfidf.fit_transform(df_train['OriginalTweet'])\n",
    "X.shape"
   ]
  },
  {
   "cell_type": "code",
   "execution_count": 305,
   "metadata": {},
   "outputs": [
    {
     "data": {
      "text/plain": [
       "(41157,)"
      ]
     },
     "execution_count": 305,
     "metadata": {},
     "output_type": "execute_result"
    }
   ],
   "source": [
    "y = df_train['Sentiment']\n",
    "y.shape"
   ]
  },
  {
   "cell_type": "code",
   "execution_count": 306,
   "metadata": {},
   "outputs": [],
   "source": [
    "# train test split the data\n",
    "X_train, X_test, y_train, y_test = ms.train_test_split(X, y, test_size=0.2, random_state=42)"
   ]
  },
  {
   "cell_type": "code",
   "execution_count": 307,
   "metadata": {},
   "outputs": [
    {
     "data": {
      "text/html": [
       "<style>#sk-container-id-11 {color: black;}#sk-container-id-11 pre{padding: 0;}#sk-container-id-11 div.sk-toggleable {background-color: white;}#sk-container-id-11 label.sk-toggleable__label {cursor: pointer;display: block;width: 100%;margin-bottom: 0;padding: 0.3em;box-sizing: border-box;text-align: center;}#sk-container-id-11 label.sk-toggleable__label-arrow:before {content: \"▸\";float: left;margin-right: 0.25em;color: #696969;}#sk-container-id-11 label.sk-toggleable__label-arrow:hover:before {color: black;}#sk-container-id-11 div.sk-estimator:hover label.sk-toggleable__label-arrow:before {color: black;}#sk-container-id-11 div.sk-toggleable__content {max-height: 0;max-width: 0;overflow: hidden;text-align: left;background-color: #f0f8ff;}#sk-container-id-11 div.sk-toggleable__content pre {margin: 0.2em;color: black;border-radius: 0.25em;background-color: #f0f8ff;}#sk-container-id-11 input.sk-toggleable__control:checked~div.sk-toggleable__content {max-height: 200px;max-width: 100%;overflow: auto;}#sk-container-id-11 input.sk-toggleable__control:checked~label.sk-toggleable__label-arrow:before {content: \"▾\";}#sk-container-id-11 div.sk-estimator input.sk-toggleable__control:checked~label.sk-toggleable__label {background-color: #d4ebff;}#sk-container-id-11 div.sk-label input.sk-toggleable__control:checked~label.sk-toggleable__label {background-color: #d4ebff;}#sk-container-id-11 input.sk-hidden--visually {border: 0;clip: rect(1px 1px 1px 1px);clip: rect(1px, 1px, 1px, 1px);height: 1px;margin: -1px;overflow: hidden;padding: 0;position: absolute;width: 1px;}#sk-container-id-11 div.sk-estimator {font-family: monospace;background-color: #f0f8ff;border: 1px dotted black;border-radius: 0.25em;box-sizing: border-box;margin-bottom: 0.5em;}#sk-container-id-11 div.sk-estimator:hover {background-color: #d4ebff;}#sk-container-id-11 div.sk-parallel-item::after {content: \"\";width: 100%;border-bottom: 1px solid gray;flex-grow: 1;}#sk-container-id-11 div.sk-label:hover label.sk-toggleable__label {background-color: #d4ebff;}#sk-container-id-11 div.sk-serial::before {content: \"\";position: absolute;border-left: 1px solid gray;box-sizing: border-box;top: 0;bottom: 0;left: 50%;z-index: 0;}#sk-container-id-11 div.sk-serial {display: flex;flex-direction: column;align-items: center;background-color: white;padding-right: 0.2em;padding-left: 0.2em;position: relative;}#sk-container-id-11 div.sk-item {position: relative;z-index: 1;}#sk-container-id-11 div.sk-parallel {display: flex;align-items: stretch;justify-content: center;background-color: white;position: relative;}#sk-container-id-11 div.sk-item::before, #sk-container-id-11 div.sk-parallel-item::before {content: \"\";position: absolute;border-left: 1px solid gray;box-sizing: border-box;top: 0;bottom: 0;left: 50%;z-index: -1;}#sk-container-id-11 div.sk-parallel-item {display: flex;flex-direction: column;z-index: 1;position: relative;background-color: white;}#sk-container-id-11 div.sk-parallel-item:first-child::after {align-self: flex-end;width: 50%;}#sk-container-id-11 div.sk-parallel-item:last-child::after {align-self: flex-start;width: 50%;}#sk-container-id-11 div.sk-parallel-item:only-child::after {width: 0;}#sk-container-id-11 div.sk-dashed-wrapped {border: 1px dashed gray;margin: 0 0.4em 0.5em 0.4em;box-sizing: border-box;padding-bottom: 0.4em;background-color: white;}#sk-container-id-11 div.sk-label label {font-family: monospace;font-weight: bold;display: inline-block;line-height: 1.2em;}#sk-container-id-11 div.sk-label-container {text-align: center;}#sk-container-id-11 div.sk-container {/* jupyter's `normalize.less` sets `[hidden] { display: none; }` but bootstrap.min.css set `[hidden] { display: none !important; }` so we also need the `!important` here to be able to override the default hidden behavior on the sphinx rendered scikit-learn.org. See: https://github.com/scikit-learn/scikit-learn/issues/21755 */display: inline-block !important;position: relative;}#sk-container-id-11 div.sk-text-repr-fallback {display: none;}</style><div id=\"sk-container-id-11\" class=\"sk-top-container\"><div class=\"sk-text-repr-fallback\"><pre>LogisticRegression()</pre><b>In a Jupyter environment, please rerun this cell to show the HTML representation or trust the notebook. <br />On GitHub, the HTML representation is unable to render, please try loading this page with nbviewer.org.</b></div><div class=\"sk-container\" hidden><div class=\"sk-item\"><div class=\"sk-estimator sk-toggleable\"><input class=\"sk-toggleable__control sk-hidden--visually\" id=\"sk-estimator-id-11\" type=\"checkbox\" checked><label for=\"sk-estimator-id-11\" class=\"sk-toggleable__label sk-toggleable__label-arrow\">LogisticRegression</label><div class=\"sk-toggleable__content\"><pre>LogisticRegression()</pre></div></div></div></div></div>"
      ],
      "text/plain": [
       "LogisticRegression()"
      ]
     },
     "execution_count": 307,
     "metadata": {},
     "output_type": "execute_result"
    }
   ],
   "source": [
    "from sklearn.linear_model import LogisticRegression\n",
    "lr_model = LogisticRegression(max_iter=100)\n",
    "lr_model.fit(X_train, y_train)"
   ]
  },
  {
   "cell_type": "code",
   "execution_count": 308,
   "metadata": {},
   "outputs": [
    {
     "data": {
      "text/plain": [
       "0.5698493683187561"
      ]
     },
     "execution_count": 308,
     "metadata": {},
     "output_type": "execute_result"
    }
   ],
   "source": [
    "y_pred = lr_model.predict(X_test)\n",
    "accuracy_score(y_test, y_pred)"
   ]
  },
  {
   "cell_type": "markdown",
   "metadata": {},
   "source": [
    "#### **Test Accuracy: 56.98%**"
   ]
  },
  {
   "cell_type": "markdown",
   "metadata": {},
   "source": [
    "Using TF_IDF and Logistic Regression, the accuracy has been improved by almost 10% but it's still not satisfactory. Let's use Support Vector Classifier to improve further. "
   ]
  },
  {
   "cell_type": "markdown",
   "metadata": {},
   "source": [
    "## Support Vector Classifier"
   ]
  },
  {
   "cell_type": "code",
   "execution_count": 309,
   "metadata": {},
   "outputs": [
    {
     "data": {
      "text/html": [
       "<style>#sk-container-id-12 {color: black;}#sk-container-id-12 pre{padding: 0;}#sk-container-id-12 div.sk-toggleable {background-color: white;}#sk-container-id-12 label.sk-toggleable__label {cursor: pointer;display: block;width: 100%;margin-bottom: 0;padding: 0.3em;box-sizing: border-box;text-align: center;}#sk-container-id-12 label.sk-toggleable__label-arrow:before {content: \"▸\";float: left;margin-right: 0.25em;color: #696969;}#sk-container-id-12 label.sk-toggleable__label-arrow:hover:before {color: black;}#sk-container-id-12 div.sk-estimator:hover label.sk-toggleable__label-arrow:before {color: black;}#sk-container-id-12 div.sk-toggleable__content {max-height: 0;max-width: 0;overflow: hidden;text-align: left;background-color: #f0f8ff;}#sk-container-id-12 div.sk-toggleable__content pre {margin: 0.2em;color: black;border-radius: 0.25em;background-color: #f0f8ff;}#sk-container-id-12 input.sk-toggleable__control:checked~div.sk-toggleable__content {max-height: 200px;max-width: 100%;overflow: auto;}#sk-container-id-12 input.sk-toggleable__control:checked~label.sk-toggleable__label-arrow:before {content: \"▾\";}#sk-container-id-12 div.sk-estimator input.sk-toggleable__control:checked~label.sk-toggleable__label {background-color: #d4ebff;}#sk-container-id-12 div.sk-label input.sk-toggleable__control:checked~label.sk-toggleable__label {background-color: #d4ebff;}#sk-container-id-12 input.sk-hidden--visually {border: 0;clip: rect(1px 1px 1px 1px);clip: rect(1px, 1px, 1px, 1px);height: 1px;margin: -1px;overflow: hidden;padding: 0;position: absolute;width: 1px;}#sk-container-id-12 div.sk-estimator {font-family: monospace;background-color: #f0f8ff;border: 1px dotted black;border-radius: 0.25em;box-sizing: border-box;margin-bottom: 0.5em;}#sk-container-id-12 div.sk-estimator:hover {background-color: #d4ebff;}#sk-container-id-12 div.sk-parallel-item::after {content: \"\";width: 100%;border-bottom: 1px solid gray;flex-grow: 1;}#sk-container-id-12 div.sk-label:hover label.sk-toggleable__label {background-color: #d4ebff;}#sk-container-id-12 div.sk-serial::before {content: \"\";position: absolute;border-left: 1px solid gray;box-sizing: border-box;top: 0;bottom: 0;left: 50%;z-index: 0;}#sk-container-id-12 div.sk-serial {display: flex;flex-direction: column;align-items: center;background-color: white;padding-right: 0.2em;padding-left: 0.2em;position: relative;}#sk-container-id-12 div.sk-item {position: relative;z-index: 1;}#sk-container-id-12 div.sk-parallel {display: flex;align-items: stretch;justify-content: center;background-color: white;position: relative;}#sk-container-id-12 div.sk-item::before, #sk-container-id-12 div.sk-parallel-item::before {content: \"\";position: absolute;border-left: 1px solid gray;box-sizing: border-box;top: 0;bottom: 0;left: 50%;z-index: -1;}#sk-container-id-12 div.sk-parallel-item {display: flex;flex-direction: column;z-index: 1;position: relative;background-color: white;}#sk-container-id-12 div.sk-parallel-item:first-child::after {align-self: flex-end;width: 50%;}#sk-container-id-12 div.sk-parallel-item:last-child::after {align-self: flex-start;width: 50%;}#sk-container-id-12 div.sk-parallel-item:only-child::after {width: 0;}#sk-container-id-12 div.sk-dashed-wrapped {border: 1px dashed gray;margin: 0 0.4em 0.5em 0.4em;box-sizing: border-box;padding-bottom: 0.4em;background-color: white;}#sk-container-id-12 div.sk-label label {font-family: monospace;font-weight: bold;display: inline-block;line-height: 1.2em;}#sk-container-id-12 div.sk-label-container {text-align: center;}#sk-container-id-12 div.sk-container {/* jupyter's `normalize.less` sets `[hidden] { display: none; }` but bootstrap.min.css set `[hidden] { display: none !important; }` so we also need the `!important` here to be able to override the default hidden behavior on the sphinx rendered scikit-learn.org. See: https://github.com/scikit-learn/scikit-learn/issues/21755 */display: inline-block !important;position: relative;}#sk-container-id-12 div.sk-text-repr-fallback {display: none;}</style><div id=\"sk-container-id-12\" class=\"sk-top-container\"><div class=\"sk-text-repr-fallback\"><pre>SVC()</pre><b>In a Jupyter environment, please rerun this cell to show the HTML representation or trust the notebook. <br />On GitHub, the HTML representation is unable to render, please try loading this page with nbviewer.org.</b></div><div class=\"sk-container\" hidden><div class=\"sk-item\"><div class=\"sk-estimator sk-toggleable\"><input class=\"sk-toggleable__control sk-hidden--visually\" id=\"sk-estimator-id-12\" type=\"checkbox\" checked><label for=\"sk-estimator-id-12\" class=\"sk-toggleable__label sk-toggleable__label-arrow\">SVC</label><div class=\"sk-toggleable__content\"><pre>SVC()</pre></div></div></div></div></div>"
      ],
      "text/plain": [
       "SVC()"
      ]
     },
     "execution_count": 309,
     "metadata": {},
     "output_type": "execute_result"
    }
   ],
   "source": [
    "from sklearn.svm import SVC\n",
    "svc_model = SVC()\n",
    "svc_model.fit(X_train, y_train)"
   ]
  },
  {
   "cell_type": "code",
   "execution_count": 310,
   "metadata": {},
   "outputs": [
    {
     "data": {
      "text/plain": [
       "0.5894071914480078"
      ]
     },
     "execution_count": 310,
     "metadata": {},
     "output_type": "execute_result"
    }
   ],
   "source": [
    "y_pred = svc_model.predict(X_test)\n",
    "accuracy_score(y_test, y_pred)"
   ]
  },
  {
   "cell_type": "markdown",
   "metadata": {},
   "source": [
    "#### **Test Accuracy: 58.94%**"
   ]
  },
  {
   "cell_type": "markdown",
   "metadata": {},
   "source": [
    "Support Vector Classifier improved the accuracy by only 2%. "
   ]
  },
  {
   "cell_type": "markdown",
   "metadata": {},
   "source": [
    "## Confusion Matrix"
   ]
  },
  {
   "cell_type": "code",
   "execution_count": 311,
   "metadata": {},
   "outputs": [
    {
     "data": {
      "text/plain": [
       "array([[ 443,    3,  497,   40,   73],\n",
       "       [   3,  605,   36,   25,  661],\n",
       "       [ 130,   21, 1200,  232,  423],\n",
       "       [   6,   11,  233,  984,  319],\n",
       "       [  27,  120,  303,  217, 1620]], dtype=int64)"
      ]
     },
     "execution_count": 311,
     "metadata": {},
     "output_type": "execute_result"
    }
   ],
   "source": [
    "y_pred = svc_model.predict(X_test)\n",
    "confusion_matrix(y_test, y_pred)"
   ]
  },
  {
   "cell_type": "markdown",
   "metadata": {},
   "source": [
    "#### Classification Report"
   ]
  },
  {
   "cell_type": "code",
   "execution_count": 312,
   "metadata": {},
   "outputs": [
    {
     "name": "stdout",
     "output_type": "stream",
     "text": [
      "                    precision    recall  f1-score   support\n",
      "\n",
      "           Neutral       0.73      0.42      0.53      1056\n",
      "          Positive       0.80      0.45      0.58      1330\n",
      "Extremely Negative       0.53      0.60      0.56      2006\n",
      "          Negative       0.66      0.63      0.65      1553\n",
      "Extremely Positive       0.52      0.71      0.60      2287\n",
      "\n",
      "          accuracy                           0.59      8232\n",
      "         macro avg       0.65      0.56      0.58      8232\n",
      "      weighted avg       0.62      0.59      0.59      8232\n",
      "\n"
     ]
    }
   ],
   "source": [
    "sentiments = df_train['Sentiment'].unique()\n",
    "print(classification_report(y_test, y_pred, target_names=sentiments))"
   ]
  },
  {
   "cell_type": "code",
   "execution_count": 313,
   "metadata": {},
   "outputs": [
    {
     "data": {
      "image/png": "[encoded data removed]",
      "text/plain": [
       "<Figure size 600x400 with 1 Axes>"
      ]
     },
     "metadata": {},
     "output_type": "display_data"
    }
   ],
   "source": [
    "cm = confusion_matrix(y_test, svc_model.predict(X_test))\n",
    "plt.figure(figsize=(6,4))\n",
    "sns.heatmap(cm.T, square=True, annot=True, fmt='d', cbar=False,\n",
    "            xticklabels=sentiments,\n",
    "            yticklabels=sentiments\n",
    "           )\n",
    "plt.xlabel('True label')\n",
    "plt.ylabel('Predicted label');"
   ]
  }
 ],
 "metadata": {
  "kernelspec": {
   "display_name": "datascience",
   "language": "python",
   "name": "python3"
  },
  "language_info": {
   "codemirror_mode": {
    "name": "ipython",
    "version": 3
   },
   "file_extension": ".py",
   "mimetype": "text/x-python",
   "name": "python",
   "nbconvert_exporter": "python",
   "pygments_lexer": "ipython3",
   "version": "3.10.9"
  }
 },
 "nbformat": 4,
 "nbformat_minor": 2
}
